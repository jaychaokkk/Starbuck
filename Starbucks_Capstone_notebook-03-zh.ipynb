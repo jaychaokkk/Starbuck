{
 "cells": [
  {
   "cell_type": "markdown",
   "metadata": {},
   "source": [
    "# 简介\n"
   ]
  },
  {
   "cell_type": "markdown",
   "metadata": {},
   "source": [
    "&ensp;&ensp;&ensp;&ensp;采用特征处理和 含有分类结果的用户数据，进行深度学习，预测用户的推送offer完成率，从而可以针对性的推送offer\n",
    "- 首先对数据进行scale预处理，并分割训练集 测试集\n",
    "- 通过线性回归初步预测 \n",
    "- 通过多种算法预测 找到最优算法\n",
    "- 对最优算法进行调参\n",
    "    \n",
    "    \n",
    "\n",
    "&ensp;&ensp;Based on user data with feature processing and classification, use deep learning to predict the completion rate of push offers for all users, so that offers can be pushed specifically and effectively\n",
    "- First perform scale preprocessing on the data, and split the training set and test set\n",
    "- Preliminary predicte through linear regression\n",
    "- Find the optimal algorithm through predictions of multiple algorithms\n",
    "- Tuning the optimal algorithm"
   ]
  },
  {
   "cell_type": "code",
   "execution_count": 12,
   "metadata": {},
   "outputs": [],
   "source": [
    "import pandas as pd\n",
    "import numpy as np\n",
    "import math\n",
    "import json\n",
    "import seaborn as sns\n",
    "from tqdm import tqdm\n",
    "import matplotlib.pyplot as plt\n",
    "import pickle\n",
    "\n",
    "from matplotlib import pyplot\n",
    "from sklearn.datasets import make_regression\n",
    "from sklearn.model_selection import cross_val_score\n",
    "from sklearn.preprocessing import StandardScaler\n",
    "from sklearn.preprocessing import MinMaxScaler\n",
    "from sklearn.pipeline import Pipeline\n",
    "from sklearn.linear_model import LinearRegression\n",
    "from sklearn.linear_model import Lasso\n",
    "from sklearn.linear_model import Ridge\n",
    "from sklearn.linear_model import ElasticNet\n",
    "from sklearn.linear_model import HuberRegressor\n",
    "from sklearn.linear_model import Lars\n",
    "from sklearn.linear_model import LassoLars\n",
    "from sklearn.linear_model import PassiveAggressiveRegressor\n",
    "from sklearn.linear_model import RANSACRegressor\n",
    "from sklearn.linear_model import SGDRegressor\n",
    "from sklearn.linear_model import TheilSenRegressor\n",
    "from sklearn.neighbors import KNeighborsRegressor\n",
    "from sklearn.tree import DecisionTreeRegressor\n",
    "from sklearn.tree import ExtraTreeRegressor\n",
    "from sklearn.svm import SVR\n",
    "from sklearn.ensemble import AdaBoostRegressor\n",
    "from sklearn.ensemble import BaggingRegressor\n",
    "from sklearn.ensemble import RandomForestRegressor\n",
    "from sklearn.ensemble import ExtraTreesRegressor\n",
    "from sklearn.ensemble import GradientBoostingRegressor\n",
    "from sklearn.multioutput import MultiOutputRegressor\n",
    "\n",
    "import warnings\n",
    "warnings.filterwarnings('ignore')\n"
   ]
  },
  {
   "cell_type": "code",
   "execution_count": 13,
   "metadata": {},
   "outputs": [],
   "source": [
    "def pklsave(model, filename):\n",
    "    \"\"\"\n",
    "    This function is to save the sklearn object\n",
    "    INPUT :\n",
    "        model : sklearn object\n",
    "        filename : filepath to saved\n",
    "    RETURN : none\n",
    "    \"\"\"\n",
    "    pickle.dump(model, open(filename,'wb'))\n",
    "    \n",
    "def pklload(filename):\n",
    "    \"\"\"\n",
    "    This function is to load the saved sklearn object\n",
    "    INPUT : filename : filepath\n",
    "    RETURN : loaded sklearn object\n",
    "    \"\"\"\n",
    "    return pickle.load(open(filename, 'rb'))"
   ]
  },
  {
   "cell_type": "markdown",
   "metadata": {},
   "source": [
    "# 准备数据"
   ]
  },
  {
   "cell_type": "markdown",
   "metadata": {},
   "source": [
    "## 加载分类数据"
   ]
  },
  {
   "cell_type": "code",
   "execution_count": 14,
   "metadata": {},
   "outputs": [
    {
     "name": "stdout",
     "output_type": "stream",
     "text": [
      "0\n"
     ]
    }
   ],
   "source": [
    "# %% 加载用户分类数据 ,分类做成字符类别\n",
    "profile_cluster = pd.read_csv('data/profile_cluster.csv')\n",
    "# 用户id 作为 index\n",
    "profile_cluster = profile_cluster.set_index(profile_cluster.columns[0])\n",
    "\n",
    "# rename cluster name to m_1, m_2, etc\n",
    "profile_cluster['cluster'] = profile_cluster['cluster'].apply(lambda x: 'm_'+ str(x))\n",
    "\n",
    "# check for null data\n",
    "print( profile_cluster.isnull().sum().sum() ) "
   ]
  },
  {
   "cell_type": "markdown",
   "metadata": {},
   "source": [
    "## 选取特征"
   ]
  },
  {
   "cell_type": "code",
   "execution_count": 15,
   "metadata": {},
   "outputs": [],
   "source": [
    "#%% 把特征分为 X 和 Y ， Y 包括两个rate 为预测值, X包括用户属性 和cluster\n",
    "features = ['age',\n",
    " 'income',\n",
    " 'avg_spending',\n",
    " 'gender_F',\n",
    " 'gender_M',\n",
    " 'gender_O',\n",
    " 'invalid_count',\n",
    " 'member_days_since',\n",
    " 'member_year_2013',\n",
    " 'member_year_2014',\n",
    " 'member_year_2015',\n",
    " 'member_year_2016',\n",
    " 'member_year_2017',\n",
    " 'member_year_2018',\n",
    " 'sum_spending',\n",
    " 'transaction_count', \n",
    " 'cluster']\n",
    "\n",
    "X = profile_cluster[features]\n",
    "target_cols = ['rate_comp_rec', 'rate_comp_view']\n",
    "y = profile_cluster[target_cols]"
   ]
  },
  {
   "cell_type": "markdown",
   "metadata": {},
   "source": [
    "## onehot"
   ]
  },
  {
   "cell_type": "code",
   "execution_count": 16,
   "metadata": {},
   "outputs": [
    {
     "data": {
      "text/plain": [
       "Index(['age', 'income', 'avg_spending', 'gender_F', 'gender_M', 'gender_O',\n",
       "       'invalid_count', 'member_days_since', 'member_year_2013',\n",
       "       'member_year_2014', 'member_year_2015', 'member_year_2016',\n",
       "       'member_year_2017', 'member_year_2018', 'sum_spending',\n",
       "       'transaction_count', 'cluster_m_0', 'cluster_m_1', 'cluster_m_10',\n",
       "       'cluster_m_11', 'cluster_m_2', 'cluster_m_3', 'cluster_m_4',\n",
       "       'cluster_m_5', 'cluster_m_6', 'cluster_m_7', 'cluster_m_8',\n",
       "       'cluster_m_9'],\n",
       "      dtype='object')"
      ]
     },
     "execution_count": 16,
     "metadata": {},
     "output_type": "execute_result"
    }
   ],
   "source": [
    "# cluster列 做成 onehot\n",
    "\n",
    "X_one_hot = pd.get_dummies(X)\n",
    "\n",
    "def one_hot(df):\n",
    "    return pd.get_dummies(df)\n",
    "X_one_hot.columns\n"
   ]
  },
  {
   "cell_type": "markdown",
   "metadata": {},
   "source": [
    "## Scale"
   ]
  },
  {
   "cell_type": "code",
   "execution_count": 17,
   "metadata": {},
   "outputs": [],
   "source": [
    "##  Feature Scaling\n",
    "\n",
    "from sklearn.preprocessing import StandardScaler, RobustScaler\n",
    "\n",
    "def scaling(features):\n",
    "    scale = StandardScaler()\n",
    "    scale.fit(features)\n",
    "    features_std = pd.DataFrame(scale.transform(features), index= features.index, columns=features.columns)\n",
    "    return features_std\n",
    "\n",
    "X_std = scaling(X_one_hot)\n"
   ]
  },
  {
   "cell_type": "markdown",
   "metadata": {},
   "source": [
    "## Split"
   ]
  },
  {
   "cell_type": "code",
   "execution_count": 18,
   "metadata": {},
   "outputs": [],
   "source": [
    "\n",
    "def get_train_test(features, target):\n",
    "    \n",
    "    \"\"\" Split : Train - Test \"\"\"\n",
    "    from sklearn.model_selection import train_test_split as tts\n",
    "    X_train, X_test, y_train, y_test = tts(features, target, test_size=0.33, random_state=42)   \n",
    "    return X_train, X_test, y_train, y_test\n",
    "\n",
    "# as feature scaling will be included in model pipeline\n",
    "# the data will be split after performing one hot encoding.\n",
    "\n",
    "X_train, X_test, y_train, y_test = get_train_test(X_one_hot, y)"
   ]
  },
  {
   "cell_type": "markdown",
   "metadata": {},
   "source": [
    "# 机器学习 "
   ]
  },
  {
   "cell_type": "code",
   "execution_count": 19,
   "metadata": {},
   "outputs": [],
   "source": [
    "from sklearn.model_selection import cross_val_score, cross_validate\n",
    "from sklearn.model_selection import KFold\n",
    "from sklearn.pipeline import Pipeline\n",
    "from sklearn.preprocessing import FunctionTransformer\n",
    "from sklearn.metrics import  mean_squared_error\n",
    "from sklearn.multioutput import MultiOutputRegressor\n",
    "from sklearn.ensemble import GradientBoostingRegressor\n",
    "from sklearn.preprocessing import StandardScaler, RobustScaler, MinMaxScaler\n",
    "from sklearn.linear_model import LinearRegression\n"
   ]
  },
  {
   "cell_type": "markdown",
   "metadata": {},
   "source": [
    "## LinearRegression"
   ]
  },
  {
   "cell_type": "code",
   "execution_count": 20,
   "metadata": {},
   "outputs": [
    {
     "name": "stdout",
     "output_type": "stream",
     "text": [
      "R^2: 0.4084 with stdev 0.0267\n",
      "MSE: 0.0633 with stdev 0.0033\n"
     ]
    }
   ],
   "source": [
    "# 设定随机种子43 用 LinearRegression 预测，r2_arr和 mean_squared_error来评价\n",
    "from sklearn.linear_model import LinearRegression\n",
    "\n",
    "\n",
    "seed=42\n",
    "np.random.seed(seed)\n",
    "estimators = [('standardize', StandardScaler()),\n",
    "             ('reg', MultiOutputRegressor(LinearRegression()))]\n",
    "\n",
    "pipeline = Pipeline(estimators)\n",
    "kfold = KFold(n_splits=10, random_state=seed) # ？？？？？？？？？？？？？？？？\n",
    "results = cross_validate(pipeline, X_train, y_train, cv=kfold, scoring=['r2','neg_mean_squared_error'])\n",
    "\n",
    "r2_arr = results['test_r2']\n",
    "mse_arr = results['test_neg_mean_squared_error']*-1\n",
    "\n",
    "print(f\"R^2: {r2_arr.mean():.4f} with stdev {r2_arr.std():.4f}\")\n",
    "print(f\"MSE: {mse_arr.mean():.4f} with stdev {mse_arr.std():.4f}\")"
   ]
  },
  {
   "cell_type": "markdown",
   "metadata": {},
   "source": [
    "##  Finding  alogrithm. "
   ]
  },
  {
   "cell_type": "code",
   "execution_count": 21,
   "metadata": {},
   "outputs": [],
   "source": [
    "\n",
    "# create a dict of standard models to evaluate {name:object} for MultiOutputRegressor\n",
    "def get_models_multioutput(models=dict()):\n",
    "    # linear models\n",
    "    models['lr'] = MultiOutputRegressor(LinearRegression())\n",
    "    alpha = [0.0, 0.1, 0.2, 0.3, 0.4, 0.5, 0.6, 0.7, 0.8, 0.9, 1.0]\n",
    "    for a in alpha:\n",
    "        models['lasso-'+str(a)] = MultiOutputRegressor(Lasso(alpha=a))\n",
    "    for a in alpha:\n",
    "        models['ridge-'+str(a)] = MultiOutputRegressor(Ridge(alpha=a))\n",
    "    for a1 in alpha:\n",
    "        for a2 in alpha:\n",
    "            name = 'en-' + str(a1) + '-' + str(a2)\n",
    "            models[name] = MultiOutputRegressor(ElasticNet(a1, a2))\n",
    "    models['huber'] = MultiOutputRegressor(HuberRegressor())\n",
    "    models['lars'] = MultiOutputRegressor(Lars())\n",
    "    models['llars'] = MultiOutputRegressor(LassoLars())\n",
    "    models['pa'] = MultiOutputRegressor(PassiveAggressiveRegressor(max_iter=1000, tol=1e-3))\n",
    "    models['ranscac'] = MultiOutputRegressor(RANSACRegressor())\n",
    "    models['sgd'] = MultiOutputRegressor(SGDRegressor(max_iter=1000, tol=1e-3))\n",
    "    models['theil'] = MultiOutputRegressor(TheilSenRegressor())\n",
    "    # non-linear models\n",
    "    n_neighbors = range(1, 21)\n",
    "    for k in n_neighbors:\n",
    "        models['knn-'+str(k)] = MultiOutputRegressor(KNeighborsRegressor(n_neighbors=k))\n",
    "    models['cart'] = MultiOutputRegressor(DecisionTreeRegressor())\n",
    "    models['extra'] = MultiOutputRegressor(ExtraTreeRegressor())\n",
    "    models['svml'] = MultiOutputRegressor(SVR(kernel='linear'))\n",
    "    models['svmp'] = MultiOutputRegressor(SVR(kernel='poly'))\n",
    "    c_values = [0.1, 0.2, 0.3, 0.4, 0.5, 0.6, 0.7, 0.8, 0.9, 1.0]\n",
    "    for c in c_values:\n",
    "        models['svmr'+str(c)] = SVR(C=c)\n",
    "    # ensemble models\n",
    "    n_trees = 100\n",
    "    models['ada'] = MultiOutputRegressor(AdaBoostRegressor(n_estimators=n_trees))\n",
    "    models['bag'] = MultiOutputRegressor(BaggingRegressor(n_estimators=n_trees))\n",
    "    models['rf'] = MultiOutputRegressor(RandomForestRegressor(n_estimators=n_trees))\n",
    "    models['et'] = MultiOutputRegressor(ExtraTreesRegressor(n_estimators=n_trees))\n",
    "    models['gbm'] = MultiOutputRegressor(GradientBoostingRegressor(n_estimators=n_trees))\n",
    "    print('Defined %d models' % len(models))\n",
    "    return models\n",
    "\n",
    "# create a feature preparation pipeline for a model\n",
    "def make_pipeline(model):\n",
    "    steps = list()\n",
    "    # standardization\n",
    "    steps.append(('standardize', StandardScaler()))\n",
    "    # normalization\n",
    "    steps.append(('normalize', MinMaxScaler()))\n",
    "    # the model\n",
    "    steps.append(('model', model))\n",
    "    # create pipeline\n",
    "    pipeline = Pipeline(steps=steps)\n",
    "    return pipeline\n",
    "\n",
    "# evaluate a single model\n",
    "def evaluate_model(X, y, model, folds, metric):\n",
    "    # create the pipeline\n",
    "    pipeline = make_pipeline(model)\n",
    "    # evaluate model\n",
    "    scores = cross_val_score(pipeline, X, y, scoring=metric, cv=folds, n_jobs=-1)\n",
    "    return scores\n",
    "\n",
    "# evaluate a model and try to trap errors and and hide warnings\n",
    "def robust_evaluate_model(X, y, model, folds, metric):\n",
    "    scores = None\n",
    "    try:\n",
    "        with warnings.catch_warnings():\n",
    "            warnings.filterwarnings(\"ignore\")\n",
    "            scores = evaluate_model(X, y, model, folds, metric)\n",
    "    except:\n",
    "        scores = None\n",
    "    return scores\n",
    "\n",
    "# evaluate a dict of models {name:object}, returns {name:score}\n",
    "def evaluate_models(X, y, models, folds=10, metric='accuracy'):\n",
    "    results = dict()\n",
    "    for name, model in models.items():\n",
    "        # evaluate the model\n",
    "        scores = robust_evaluate_model(X, y, model, folds, metric)\n",
    "        # show process\n",
    "        if scores is not None:\n",
    "            # store a result\n",
    "            results[name] = scores\n",
    "            mean_score, std_score = np.mean(scores), np.std(scores)\n",
    "            print('>%s: %.3f (+/-%.3f)' % (name, mean_score, std_score))\n",
    "        else:\n",
    "            print('>%s: error' % name)\n",
    "    return results\n"
   ]
  },
  {
   "cell_type": "code",
   "execution_count": 22,
   "metadata": {},
   "outputs": [
    {
     "name": "stdout",
     "output_type": "stream",
     "text": [
      "Defined 190 models\n",
      ">lr: -1013531858180976017408.000 (+/-2387938681014755786752.000)\n",
      ">lasso-0.0: -0.063 (+/-0.003)\n",
      ">lasso-0.1: -0.107 (+/-0.003)\n",
      ">lasso-0.2: -0.107 (+/-0.003)\n",
      ">lasso-0.3: -0.107 (+/-0.003)\n",
      ">lasso-0.4: -0.107 (+/-0.003)\n",
      ">lasso-0.5: -0.107 (+/-0.003)\n",
      ">lasso-0.6: -0.107 (+/-0.003)\n",
      ">lasso-0.7: -0.107 (+/-0.003)\n",
      ">lasso-0.8: -0.107 (+/-0.003)\n",
      ">lasso-0.9: -0.107 (+/-0.003)\n",
      ">lasso-1.0: -0.107 (+/-0.003)\n",
      ">ridge-0.0: -111737172849561398411264.000 (+/-314809984480779272454144.000)\n",
      ">ridge-0.1: -0.063 (+/-0.003)\n",
      ">ridge-0.2: -0.063 (+/-0.003)\n",
      ">ridge-0.3: -0.063 (+/-0.003)\n",
      ">ridge-0.4: -0.063 (+/-0.003)\n",
      ">ridge-0.5: -0.063 (+/-0.003)\n",
      ">ridge-0.6: -0.063 (+/-0.003)\n",
      ">ridge-0.7: -0.063 (+/-0.003)\n",
      ">ridge-0.8: -0.063 (+/-0.003)\n",
      ">ridge-0.9: -0.063 (+/-0.003)\n",
      ">ridge-1.0: -0.063 (+/-0.003)\n",
      ">en-0.0-0.0: -0.063 (+/-0.003)\n",
      ">en-0.0-0.1: -0.063 (+/-0.003)\n",
      ">en-0.0-0.2: -0.063 (+/-0.003)\n",
      ">en-0.0-0.3: -0.063 (+/-0.003)\n",
      ">en-0.0-0.4: -0.063 (+/-0.003)\n",
      ">en-0.0-0.5: -0.063 (+/-0.003)\n",
      ">en-0.0-0.6: -0.063 (+/-0.003)\n",
      ">en-0.0-0.7: -0.063 (+/-0.003)\n",
      ">en-0.0-0.8: -0.063 (+/-0.003)\n",
      ">en-0.0-0.9: -0.063 (+/-0.003)\n",
      ">en-0.0-1.0: -0.063 (+/-0.003)\n",
      ">en-0.1-0.0: -0.073 (+/-0.003)\n",
      ">en-0.1-0.1: -0.082 (+/-0.003)\n",
      ">en-0.1-0.2: -0.090 (+/-0.003)\n",
      ">en-0.1-0.3: -0.099 (+/-0.003)\n",
      ">en-0.1-0.4: -0.105 (+/-0.003)\n",
      ">en-0.1-0.5: -0.107 (+/-0.003)\n",
      ">en-0.1-0.6: -0.107 (+/-0.003)\n",
      ">en-0.1-0.7: -0.107 (+/-0.003)\n",
      ">en-0.1-0.8: -0.107 (+/-0.003)\n",
      ">en-0.1-0.9: -0.107 (+/-0.003)\n",
      ">en-0.1-1.0: -0.107 (+/-0.003)\n",
      ">en-0.2-0.0: -0.079 (+/-0.003)\n",
      ">en-0.2-0.1: -0.094 (+/-0.003)\n",
      ">en-0.2-0.2: -0.106 (+/-0.003)\n",
      ">en-0.2-0.3: -0.107 (+/-0.003)\n",
      ">en-0.2-0.4: -0.107 (+/-0.003)\n",
      ">en-0.2-0.5: -0.107 (+/-0.003)\n",
      ">en-0.2-0.6: -0.107 (+/-0.003)\n",
      ">en-0.2-0.7: -0.107 (+/-0.003)\n",
      ">en-0.2-0.8: -0.107 (+/-0.003)\n",
      ">en-0.2-0.9: -0.107 (+/-0.003)\n",
      ">en-0.2-1.0: -0.107 (+/-0.003)\n",
      ">en-0.3-0.0: -0.083 (+/-0.003)\n",
      ">en-0.3-0.1: -0.103 (+/-0.003)\n",
      ">en-0.3-0.2: -0.107 (+/-0.003)\n",
      ">en-0.3-0.3: -0.107 (+/-0.003)\n",
      ">en-0.3-0.4: -0.107 (+/-0.003)\n",
      ">en-0.3-0.5: -0.107 (+/-0.003)\n",
      ">en-0.3-0.6: -0.107 (+/-0.003)\n",
      ">en-0.3-0.7: -0.107 (+/-0.003)\n",
      ">en-0.3-0.8: -0.107 (+/-0.003)\n",
      ">en-0.3-0.9: -0.107 (+/-0.003)\n",
      ">en-0.3-1.0: -0.107 (+/-0.003)\n",
      ">en-0.4-0.0: -0.086 (+/-0.003)\n",
      ">en-0.4-0.1: -0.106 (+/-0.003)\n",
      ">en-0.4-0.2: -0.107 (+/-0.003)\n",
      ">en-0.4-0.3: -0.107 (+/-0.003)\n",
      ">en-0.4-0.4: -0.107 (+/-0.003)\n",
      ">en-0.4-0.5: -0.107 (+/-0.003)\n",
      ">en-0.4-0.6: -0.107 (+/-0.003)\n",
      ">en-0.4-0.7: -0.107 (+/-0.003)\n",
      ">en-0.4-0.8: -0.107 (+/-0.003)\n",
      ">en-0.4-0.9: -0.107 (+/-0.003)\n",
      ">en-0.4-1.0: -0.107 (+/-0.003)\n",
      ">en-0.5-0.0: -0.088 (+/-0.003)\n",
      ">en-0.5-0.1: -0.107 (+/-0.003)\n",
      ">en-0.5-0.2: -0.107 (+/-0.003)\n",
      ">en-0.5-0.3: -0.107 (+/-0.003)\n",
      ">en-0.5-0.4: -0.107 (+/-0.003)\n",
      ">en-0.5-0.5: -0.107 (+/-0.003)\n",
      ">en-0.5-0.6: -0.107 (+/-0.003)\n",
      ">en-0.5-0.7: -0.107 (+/-0.003)\n",
      ">en-0.5-0.8: -0.107 (+/-0.003)\n",
      ">en-0.5-0.9: -0.107 (+/-0.003)\n",
      ">en-0.5-1.0: -0.107 (+/-0.003)\n",
      ">en-0.6-0.0: -0.090 (+/-0.003)\n",
      ">en-0.6-0.1: -0.107 (+/-0.003)\n",
      ">en-0.6-0.2: -0.107 (+/-0.003)\n",
      ">en-0.6-0.3: -0.107 (+/-0.003)\n",
      ">en-0.6-0.4: -0.107 (+/-0.003)\n",
      ">en-0.6-0.5: -0.107 (+/-0.003)\n",
      ">en-0.6-0.6: -0.107 (+/-0.003)\n",
      ">en-0.6-0.7: -0.107 (+/-0.003)\n",
      ">en-0.6-0.8: -0.107 (+/-0.003)\n",
      ">en-0.6-0.9: -0.107 (+/-0.003)\n",
      ">en-0.6-1.0: -0.107 (+/-0.003)\n",
      ">en-0.7-0.0: -0.092 (+/-0.003)\n",
      ">en-0.7-0.1: -0.107 (+/-0.003)\n",
      ">en-0.7-0.2: -0.107 (+/-0.003)\n",
      ">en-0.7-0.3: -0.107 (+/-0.003)\n",
      ">en-0.7-0.4: -0.107 (+/-0.003)\n",
      ">en-0.7-0.5: -0.107 (+/-0.003)\n",
      ">en-0.7-0.6: -0.107 (+/-0.003)\n",
      ">en-0.7-0.7: -0.107 (+/-0.003)\n",
      ">en-0.7-0.8: -0.107 (+/-0.003)\n",
      ">en-0.7-0.9: -0.107 (+/-0.003)\n",
      ">en-0.7-1.0: -0.107 (+/-0.003)\n",
      ">en-0.8-0.0: -0.093 (+/-0.003)\n",
      ">en-0.8-0.1: -0.107 (+/-0.003)\n",
      ">en-0.8-0.2: -0.107 (+/-0.003)\n",
      ">en-0.8-0.3: -0.107 (+/-0.003)\n",
      ">en-0.8-0.4: -0.107 (+/-0.003)\n",
      ">en-0.8-0.5: -0.107 (+/-0.003)\n",
      ">en-0.8-0.6: -0.107 (+/-0.003)\n",
      ">en-0.8-0.7: -0.107 (+/-0.003)\n",
      ">en-0.8-0.8: -0.107 (+/-0.003)\n",
      ">en-0.8-0.9: -0.107 (+/-0.003)\n",
      ">en-0.8-1.0: -0.107 (+/-0.003)\n",
      ">en-0.9-0.0: -0.094 (+/-0.003)\n",
      ">en-0.9-0.1: -0.107 (+/-0.003)\n",
      ">en-0.9-0.2: -0.107 (+/-0.003)\n",
      ">en-0.9-0.3: -0.107 (+/-0.003)\n",
      ">en-0.9-0.4: -0.107 (+/-0.003)\n",
      ">en-0.9-0.5: -0.107 (+/-0.003)\n",
      ">en-0.9-0.6: -0.107 (+/-0.003)\n",
      ">en-0.9-0.7: -0.107 (+/-0.003)\n",
      ">en-0.9-0.8: -0.107 (+/-0.003)\n",
      ">en-0.9-0.9: -0.107 (+/-0.003)\n",
      ">en-0.9-1.0: -0.107 (+/-0.003)\n",
      ">en-1.0-0.0: -0.095 (+/-0.003)\n",
      ">en-1.0-0.1: -0.107 (+/-0.003)\n",
      ">en-1.0-0.2: -0.107 (+/-0.003)\n",
      ">en-1.0-0.3: -0.107 (+/-0.003)\n",
      ">en-1.0-0.4: -0.107 (+/-0.003)\n",
      ">en-1.0-0.5: -0.107 (+/-0.003)\n",
      ">en-1.0-0.6: -0.107 (+/-0.003)\n",
      ">en-1.0-0.7: -0.107 (+/-0.003)\n",
      ">en-1.0-0.8: -0.107 (+/-0.003)\n",
      ">en-1.0-0.9: -0.107 (+/-0.003)\n",
      ">en-1.0-1.0: -0.107 (+/-0.003)\n",
      ">huber: -0.064 (+/-0.004)\n",
      ">lars: -125284.674 (+/-305118.983)\n",
      ">llars: -0.107 (+/-0.003)\n",
      ">pa: -0.142 (+/-0.032)\n",
      ">ranscac: -15239082331421136896.000 (+/-45706068432667295744.000)\n",
      ">sgd: -0.066 (+/-0.003)\n",
      ">theil: -0.073 (+/-0.006)\n",
      ">knn-1: -0.115 (+/-0.004)\n",
      ">knn-2: -0.085 (+/-0.004)\n",
      ">knn-3: -0.076 (+/-0.003)\n",
      ">knn-4: -0.071 (+/-0.004)\n",
      ">knn-5: -0.068 (+/-0.003)\n",
      ">knn-6: -0.066 (+/-0.003)\n",
      ">knn-7: -0.065 (+/-0.003)\n",
      ">knn-8: -0.064 (+/-0.003)\n",
      ">knn-9: -0.064 (+/-0.003)\n",
      ">knn-10: -0.064 (+/-0.003)\n",
      ">knn-11: -0.063 (+/-0.003)\n",
      ">knn-12: -0.063 (+/-0.003)\n",
      ">knn-13: -0.063 (+/-0.003)\n",
      ">knn-14: -0.063 (+/-0.003)\n",
      ">knn-15: -0.063 (+/-0.003)\n",
      ">knn-16: -0.063 (+/-0.003)\n",
      ">knn-17: -0.062 (+/-0.003)\n",
      ">knn-18: -0.062 (+/-0.003)\n",
      ">knn-19: -0.062 (+/-0.003)\n",
      ">knn-20: -0.062 (+/-0.003)\n",
      ">cart: -0.112 (+/-0.005)\n",
      ">extra: -0.113 (+/-0.005)\n",
      ">svml: -0.064 (+/-0.004)\n",
      ">svmp: -0.059 (+/-0.003)\n",
      ">svmr0.1: nan (+/-nan)\n",
      ">svmr0.2: nan (+/-nan)\n",
      ">svmr0.3: nan (+/-nan)\n",
      ">svmr0.4: nan (+/-nan)\n",
      ">svmr0.5: nan (+/-nan)\n",
      ">svmr0.6: nan (+/-nan)\n",
      ">svmr0.7: nan (+/-nan)\n",
      ">svmr0.8: nan (+/-nan)\n",
      ">svmr0.9: nan (+/-nan)\n",
      ">svmr1.0: nan (+/-nan)\n",
      ">ada: -0.070 (+/-0.005)\n",
      ">bag: -0.059 (+/-0.004)\n",
      ">rf: -0.059 (+/-0.004)\n",
      ">et: -0.062 (+/-0.003)\n",
      ">gbm: -0.055 (+/-0.003)\n"
     ]
    }
   ],
   "source": [
    "# get model list\n",
    "models = get_models_multioutput()   \n",
    "# evaluate models\n",
    "results = evaluate_models(X_train, y_train, models, metric='neg_mean_squared_error')\n"
   ]
  },
  {
   "cell_type": "code",
   "execution_count": 23,
   "metadata": {},
   "outputs": [],
   "source": [
    "def summarize_results(results, maximize=True, top_n=10):\n",
    "    # check for no results\n",
    "    if len(results) == 0:\n",
    "        print('no results')\n",
    "        return\n",
    "    # determine how many results to summarize\n",
    "    n = min(top_n, len(results))\n",
    "    # create a list of (name, mean(scores)) tuples\n",
    "    mean_scores = [(k,np.mean(v)) for k,v in results.items()]\n",
    "    \n",
    "    mean_scores_nonan = []\n",
    "    for k in range(len(mean_scores)) :\n",
    "        if  math.isnan( mean_scores[k][1] )!= True :\n",
    "            mean_scores_nonan.append(mean_scores[k])      \n",
    "    \n",
    "    # sort tuples by mean score\n",
    "    mean_scores_nonan = sorted(mean_scores_nonan, key=lambda x: x[1])\n",
    "    # reverse for descending order (e.g. for accuracy)\n",
    "    if maximize:\n",
    "        mean_scores_nonan = list(reversed(mean_scores_nonan))\n",
    "    # retrieve the top n for summarization\n",
    "    names = [x[0] for x in mean_scores_nonan[:n]]\n",
    "    scores = [results[x[0]] for x in mean_scores_nonan[:n]]\n",
    "    # print the top n\n",
    "    print()\n",
    "    for i in range(n):\n",
    "        name = names[i]\n",
    "        mean_score, std_score = np.mean(results[name]), np.std(results[name])\n",
    "        print('Rank=%d, Name=%s, Score=%.3f (+/- %.3f)' % (i+1, name, mean_score, std_score))\n",
    "    # boxplot for the top n\n",
    "    pyplot.boxplot(scores, labels=names)\n",
    "    _, labels = pyplot.xticks()\n",
    "    pyplot.setp(labels, rotation=90)\n",
    "    #pyplot.savefig('spotcheck.png')"
   ]
  },
  {
   "cell_type": "code",
   "execution_count": 24,
   "metadata": {},
   "outputs": [
    {
     "name": "stdout",
     "output_type": "stream",
     "text": [
      "\n",
      "Rank=1, Name=gbm, Score=-0.055 (+/- 0.003)\n",
      "Rank=2, Name=bag, Score=-0.059 (+/- 0.004)\n",
      "Rank=3, Name=rf, Score=-0.059 (+/- 0.004)\n",
      "Rank=4, Name=svmp, Score=-0.059 (+/- 0.003)\n",
      "Rank=5, Name=et, Score=-0.062 (+/- 0.003)\n",
      "Rank=6, Name=knn-20, Score=-0.062 (+/- 0.003)\n",
      "Rank=7, Name=knn-19, Score=-0.062 (+/- 0.003)\n",
      "Rank=8, Name=knn-18, Score=-0.062 (+/- 0.003)\n",
      "Rank=9, Name=knn-17, Score=-0.062 (+/- 0.003)\n",
      "Rank=10, Name=knn-16, Score=-0.063 (+/- 0.003)\n"
     ]
    },
    {
     "data": {
      "image/png": "[encoded data removed]",
      "text/plain": [
       "<Figure size 432x288 with 1 Axes>"
      ]
     },
     "metadata": {
      "needs_background": "light"
     },
     "output_type": "display_data"
    }
   ],
   "source": [
    "summarize_results(results)\n"
   ]
  },
  {
   "cell_type": "markdown",
   "metadata": {},
   "source": [
    "##  Selected Model - Gradient boosting"
   ]
  },
  {
   "cell_type": "code",
   "execution_count": 25,
   "metadata": {},
   "outputs": [
    {
     "name": "stdout",
     "output_type": "stream",
     "text": [
      "R^2: 0.4925 with stdev 0.0221\n",
      "MSE: 0.0546 with stdev 0.0029\n"
     ]
    }
   ],
   "source": [
    "# The Selected Model - Gradient boosting\n",
    "\n",
    "from sklearn.ensemble import GradientBoostingRegressor\n",
    "from sklearn.ensemble import RandomForestRegressor\n",
    "\n",
    "seed=42\n",
    "np.random.seed(seed)\n",
    "estimators = [('standardize', StandardScaler()),\n",
    "             ('reg', MultiOutputRegressor(GradientBoostingRegressor(random_state=seed)))]\n",
    "\n",
    "pipeline = Pipeline(estimators)\n",
    "kfold = KFold(n_splits=10, random_state=seed)\n",
    "results = cross_validate(pipeline, X_train, y_train, cv=kfold, scoring=['r2','neg_mean_squared_error'])\n",
    "\n",
    "r2_arr = results['test_r2']\n",
    "mse_arr = results['test_neg_mean_squared_error']*-1\n",
    "\n",
    "print(f\"R^2: {r2_arr.mean():.4f} with stdev {r2_arr.std():.4f}\")\n",
    "print(f\"MSE: {mse_arr.mean():.4f} with stdev {mse_arr.std():.4f}\")\n"
   ]
  },
  {
   "cell_type": "markdown",
   "metadata": {},
   "source": [
    "## 调参数\n"
   ]
  },
  {
   "cell_type": "code",
   "execution_count": 26,
   "metadata": {},
   "outputs": [
    {
     "name": "stdout",
     "output_type": "stream",
     "text": [
      "MultiOutputRegressor(estimator=GradientBoostingRegressor(alpha=0.9,\n",
      "                                                         ccp_alpha=0.0,\n",
      "                                                         criterion='friedman_mse',\n",
      "                                                         init=None,\n",
      "                                                         learning_rate=0.1,\n",
      "                                                         loss='ls', max_depth=3,\n",
      "                                                         max_features=None,\n",
      "                                                         max_leaf_nodes=None,\n",
      "                                                         min_impurity_decrease=0.0,\n",
      "                                                         min_impurity_split=None,\n",
      "                                                         min_samples_leaf=1,\n",
      "                                                         min_samples_split=2,\n",
      "                                                         min_weight_fraction_leaf=0.0,\n",
      "                                                         n_estimators=100,\n",
      "                                                         n_iter_no_change=None,\n",
      "                                                         presort='deprecated',\n",
      "                                                         random_state=42,\n",
      "                                                         subsample=1.0,\n",
      "                                                         tol=0.0001,\n",
      "                                                         validation_fraction=0.1,\n",
      "                                                         verbose=0,\n",
      "                                                         warm_start=False),\n",
      "                     n_jobs=None)\n"
     ]
    }
   ],
   "source": [
    "\"\"\" Model Tuning \"\"\"\n",
    "# Import \n",
    "from sklearn.model_selection import GridSearchCV, RandomizedSearchCV\n",
    "# Initialize the classifier\n",
    "seed=42\n",
    "np.random.seed(seed)\n",
    "reg = MultiOutputRegressor(GradientBoostingRegressor(random_state=seed))\n",
    "print(reg)"
   ]
  },
  {
   "cell_type": "code",
   "execution_count": 27,
   "metadata": {},
   "outputs": [
    {
     "name": "stdout",
     "output_type": "stream",
     "text": [
      "Fitting 5 folds for each of 50 candidates, totalling 250 fits\n"
     ]
    },
    {
     "name": "stderr",
     "output_type": "stream",
     "text": [
      "[Parallel(n_jobs=-1)]: Using backend LokyBackend with 4 concurrent workers.\n",
      "[Parallel(n_jobs=-1)]: Done   5 tasks      | elapsed:   11.5s\n",
      "[Parallel(n_jobs=-1)]: Done  10 tasks      | elapsed:  1.9min\n",
      "[Parallel(n_jobs=-1)]: Done  17 tasks      | elapsed:  2.0min\n",
      "[Parallel(n_jobs=-1)]: Done  24 tasks      | elapsed:  2.2min\n",
      "[Parallel(n_jobs=-1)]: Done  33 tasks      | elapsed:  3.4min\n",
      "[Parallel(n_jobs=-1)]: Done  42 tasks      | elapsed:  3.5min\n",
      "[Parallel(n_jobs=-1)]: Done  53 tasks      | elapsed:  3.6min\n",
      "[Parallel(n_jobs=-1)]: Done  64 tasks      | elapsed:  5.0min\n",
      "[Parallel(n_jobs=-1)]: Done  77 tasks      | elapsed:  5.8min\n",
      "[Parallel(n_jobs=-1)]: Done  90 tasks      | elapsed:  5.9min\n",
      "[Parallel(n_jobs=-1)]: Done 105 tasks      | elapsed:  6.2min\n",
      "[Parallel(n_jobs=-1)]: Done 120 tasks      | elapsed:  7.2min\n",
      "[Parallel(n_jobs=-1)]: Done 137 tasks      | elapsed:  8.3min\n",
      "[Parallel(n_jobs=-1)]: Done 154 tasks      | elapsed:  9.1min\n",
      "[Parallel(n_jobs=-1)]: Done 173 tasks      | elapsed: 10.0min\n",
      "[Parallel(n_jobs=-1)]: Done 192 tasks      | elapsed: 10.9min\n",
      "[Parallel(n_jobs=-1)]: Done 213 tasks      | elapsed: 11.8min\n",
      "[Parallel(n_jobs=-1)]: Done 234 tasks      | elapsed: 12.9min\n",
      "[Parallel(n_jobs=-1)]: Done 250 out of 250 | elapsed: 15.9min finished\n"
     ]
    }
   ],
   "source": [
    "parameters = {'estimator__n_estimators':[50, 75,100,200,300, 500], \n",
    "              'estimator__max_depth' : [2,3,5,8,10, None],\n",
    "              'estimator__min_samples_split' : [2,5,7,9,12],\n",
    "              'estimator__min_samples_leaf' : [1,3,5,7,9]\n",
    "             }\n",
    "\n",
    "# Perform grid search \n",
    "grid_obj = RandomizedSearchCV(reg, param_distributions=parameters,n_iter = 50,scoring='neg_mean_squared_error', verbose=10, n_jobs=-1)\n",
    "# Fit the grid search object to the training data \n",
    "grid_fit = grid_obj.fit(X_train, y_train)\n",
    "# Get the estimator\n",
    "best_reg = grid_fit.best_estimator_\n"
   ]
  },
  {
   "cell_type": "code",
   "execution_count": 28,
   "metadata": {},
   "outputs": [
    {
     "name": "stdout",
     "output_type": "stream",
     "text": [
      "Tuned Model\n",
      "R^2 score :  0.4899010925056648\n",
      "MSE :  0.05459027872088544\n"
     ]
    }
   ],
   "source": [
    "\n",
    "print('Tuned Model')\n",
    "print('R^2 score : ', best_reg.score(X_test, y_test))\n",
    "print('MSE : ', mean_squared_error(y_test, best_reg.predict(X_test)))\n"
   ]
  },
  {
   "cell_type": "code",
   "execution_count": 29,
   "metadata": {},
   "outputs": [
    {
     "name": "stdout",
     "output_type": "stream",
     "text": [
      "MultiOutputRegressor(estimator=GradientBoostingRegressor(alpha=0.9,\n",
      "                                                         ccp_alpha=0.0,\n",
      "                                                         criterion='friedman_mse',\n",
      "                                                         init=None,\n",
      "                                                         learning_rate=0.1,\n",
      "                                                         loss='ls', max_depth=3,\n",
      "                                                         max_features=None,\n",
      "                                                         max_leaf_nodes=None,\n",
      "                                                         min_impurity_decrease=0.0,\n",
      "                                                         min_impurity_split=None,\n",
      "                                                         min_samples_leaf=5,\n",
      "                                                         min_samples_split=2,\n",
      "                                                         min_weight_fraction_leaf=0.0,\n",
      "                                                         n_estimators=75,\n",
      "                                                         n_iter_no_change=None,\n",
      "                                                         presort='deprecated',\n",
      "                                                         random_state=42,\n",
      "                                                         subsample=1.0,\n",
      "                                                         tol=0.0001,\n",
      "                                                         validation_fraction=0.1,\n",
      "                                                         verbose=0,\n",
      "                                                         warm_start=False),\n",
      "                     n_jobs=None)\n"
     ]
    }
   ],
   "source": [
    "print( best_reg ) \n",
    "\n",
    "#  保存最佳网格参数\n",
    "pklsave(best_reg, 'sav/best_reg.sav')\n"
   ]
  },
  {
   "cell_type": "markdown",
   "metadata": {},
   "source": [
    "# 小结"
   ]
  },
  {
   "cell_type": "markdown",
   "metadata": {},
   "source": [
    "- 采用线性回归方法 得分 R^2:0.4084 MSE:0.0633\n",
    "- 采用Gradient boosting方法 得分 R^2: 0.4925 MSE: 0.0546 \n",
    "- 采用调参后的Gradient boosting方法 得分 R^2 score:0.4899  MSE:0.0546\n",
    "- 最终模型准确率并不高，可能是因为特征提取的还不够 需要更多特征 比如提取用户 对每一种推送offer接收数量、完成数量和完成/接收率，以及提取用户的年龄分组\n",
    "    \n",
    "    \n",
    "- Using linear regression method， Score R^2: 0.4084  MSE: 0.0633\n",
    "- Using Gradient boosting method， Score R^2: 0.4925  MSE: 0.0546\n",
    "- Tuning the Gradient boosting method, Score R^2: 0.4899  MSE: 0.0546\n",
    "- The accuracy of the final model is not high. It may be that the feature extraction is not enough. More features are needed, such as extracting users' received count, completed count, and completed/received rates for each type of pushed offer , as well as users' age group."
   ]
  },
  {
   "cell_type": "code",
   "execution_count": null,
   "metadata": {},
   "outputs": [],
   "source": []
  }
 ],
 "metadata": {
  "kernelspec": {
   "display_name": "Python 3",
   "language": "python",
   "name": "python3"
  },
  "language_info": {
   "codemirror_mode": {
    "name": "ipython",
    "version": 3
   },
   "file_extension": ".py",
   "mimetype": "text/x-python",
   "name": "python",
   "nbconvert_exporter": "python",
   "pygments_lexer": "ipython3",
   "version": "3.7.3"
  },
  "toc": {
   "base_numbering": 1,
   "nav_menu": {},
   "number_sections": true,
   "sideBar": true,
   "skip_h1_title": false,
   "title_cell": "Table of Contents",
   "title_sidebar": "机器学习，预测用户完成率",
   "toc_cell": false,
   "toc_position": {
    "height": "calc(100% - 180px)",
    "left": "10px",
    "top": "150px",
    "width": "221.176px"
   },
   "toc_section_display": true,
   "toc_window_display": true
  }
 },
 "nbformat": 4,
 "nbformat_minor": 4
}
