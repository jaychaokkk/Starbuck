{
 "cells": [
  {
   "cell_type": "markdown",
   "metadata": {},
   "source": [
    "# 星巴克毕业项目\n",
    "\n",
    "### 简介\n",
    "\n",
    "这个数据集是一些模拟 Starbucks rewards 移动 app 上用户行为的数据。每隔几天，星巴克会向 app 的用户发送一些推送。这个推送可能仅仅是一条饮品的广告或者是折扣券或 BOGO（买一送一）。一些顾客可能一连几周都收不到任何推送。 \n",
    "\n",
    "顾客收到的推送可能是不同的，这就是这个数据集的挑战所在。\n",
    "\n",
    "你的任务是将交易数据、人口统计数据和推送数据结合起来判断哪一类人群会受到某种推送的影响。这个数据集是从星巴克 app 的真实数据简化而来。因为下面的这个模拟器仅产生了一种饮品， 实际上星巴克的饮品有几十种。\n",
    "\n",
    "每种推送都有有效期。例如，买一送一（BOGO）优惠券推送的有效期可能只有 5 天。你会发现数据集中即使是一些消息型的推送都有有效期，哪怕这些推送仅仅是饮品的广告，例如，如果一条消息型推送的有效期是 7 天，你可以认为是该顾客在这 7 天都可能受到这条推送的影响。\n",
    "\n",
    "数据集中还包含 app 上支付的交易信息，交易信息包括购买时间和购买支付的金额。交易信息还包括该顾客收到的推送种类和数量以及看了该推送的时间。顾客做出了购买行为也会产生一条记录。 \n",
    "\n",
    "同样需要记住有可能顾客购买了商品，但没有收到或者没有看推送。\n",
    "\n",
    "### 示例\n",
    "\n",
    "举个例子，一个顾客在周一收到了满 10 美元减 2 美元的优惠券推送。这个推送的有效期从收到日算起一共 10 天。如果该顾客在有效日期内的消费累计达到了 10 美元，该顾客就满足了该推送的要求。\n",
    "\n",
    "然而，这个数据集里有一些地方需要注意。即，这个推送是自动生效的；也就是说，顾客收到推送后，哪怕没有看到，满足了条件，推送的优惠依然能够生效。比如，一个顾客收到了\"满10美元减2美元优惠券\"的推送，但是该用户在 10 天有效期内从来没有打开看到过它。该顾客在 10 天内累计消费了 15 美元。数据集也会记录他满足了推送的要求，然而，这个顾客并没被受到这个推送的影响，因为他并不知道它的存在。\n",
    "\n",
    "### 清洗\n",
    "\n",
    "清洗数据非常重要也非常需要技巧。\n",
    "\n",
    "你也要考虑到某类人群即使没有收到推送，也会购买的情况。从商业角度出发，如果顾客无论是否收到推送都打算花 10 美元，你并不希望给他发送满 10 美元减 2 美元的优惠券推送。所以你可能需要分析某类人群在没有任何推送的情况下会购买什么。\n",
    "\n",
    "### 最后一项建议\n",
    "\n",
    "因为这是一个毕业项目，你可以使用任何你认为合适的方法来分析数据。例如，你可以搭建一个机器学习模型来根据人口统计数据和推送的种类来预测某人会花费多少钱。或者，你也可以搭建一个模型来预测该顾客是否会对推送做出反应。或者，你也可以完全不用搭建机器学习模型。你可以开发一套启发式算法来决定你会给每个顾客发出什么样的消息（比如75% 的35 岁女性用户会对推送 A 做出反应，对推送 B 则只有 40% 会做出反应，那么应该向她们发送推送 A）。\n",
    "\n",
    "\n",
    "# 数据集\n",
    "\n",
    "一共有三个数据文件：\n",
    "\n",
    "* portfolio.json – 包括推送的 id 和每个推送的元数据（持续时间、种类等等）\n",
    "* profile.json – 每个顾客的人口统计数据\n",
    "* transcript.json – 交易、收到的推送、查看的推送和完成的推送的记录\n",
    "\n",
    "以下是文件中每个变量的类型和解释 ：\n",
    "\n",
    "**portfolio.json**\n",
    "* id (string) – 推送的id\n",
    "* offer_type (string) – 推送的种类，例如 BOGO、打折（discount）、信息（informational）\n",
    "* difficulty (int) – 满足推送的要求所需的最少花费\n",
    "* reward (int) – 满足推送的要求后给与的优惠\n",
    "* duration (int) – 推送持续的时间，单位是天\n",
    "* channels (字符串列表)\n",
    "\n",
    "**profile.json**\n",
    "* age (int) – 顾客的年龄 \n",
    "* became_member_on (int) – 该顾客第一次注册app的时间\n",
    "* gender (str) – 顾客的性别（注意除了表示男性的 M 和表示女性的 F 之外，还有表示其他的 O）\n",
    "* id (str) – 顾客id\n",
    "* income (float) – 顾客的收入\n",
    "\n",
    "**transcript.json**\n",
    "* event (str) – 记录的描述（比如交易记录、推送已收到、推送已阅）\n",
    "* person (str) – 顾客id\n",
    "* time (int) – 单位是小时，测试开始时计时。该数据从时间点 t=0 开始\n",
    "* value - (dict of strings) – 推送的id 或者交易的数额\n"
   ]
  },
  {
   "cell_type": "code",
   "execution_count": 2,
   "metadata": {},
   "outputs": [],
   "source": [
    "import pandas as pd\n",
    "import numpy as np\n",
    "import math\n",
    "import json\n",
    "import seaborn as sns\n",
    "import matplotlib.pyplot as plt\n",
    "from tqdm import tqdm\n",
    "import datetime\n",
    "import pickle\n",
    "from sklearn.preprocessing import StandardScaler\n",
    "from sklearn.decomposition import PCA\n",
    "\n",
    "# read in the json files\n",
    "get_ipython().run_line_magic('matplotlib', 'inline')\n",
    "get_ipython().run_line_magic('load_ext', 'autoreload')\n",
    "get_ipython().run_line_magic('autoreload', '2')\n",
    "\n",
    "# read in the json files\n",
    "portfolio = pd.read_json('data/portfolio.json', orient='records', lines=True)\n",
    "profile = pd.read_json('data/profile.json', orient='records', lines=True)\n",
    "transcript = pd.read_json('data/transcript.json', orient='records', lines=True)"
   ]
  },
  {
   "cell_type": "markdown",
   "metadata": {},
   "source": [
    "## 概览portfolio"
   ]
  },
  {
   "cell_type": "code",
   "execution_count": 3,
   "metadata": {},
   "outputs": [
    {
     "name": "stdout",
     "output_type": "stream",
     "text": [
      "<class 'pandas.core.frame.DataFrame'>\n",
      "RangeIndex: 10 entries, 0 to 9\n",
      "Data columns (total 6 columns):\n",
      " #   Column      Non-Null Count  Dtype \n",
      "---  ------      --------------  ----- \n",
      " 0   reward      10 non-null     int64 \n",
      " 1   channels    10 non-null     object\n",
      " 2   difficulty  10 non-null     int64 \n",
      " 3   duration    10 non-null     int64 \n",
      " 4   offer_type  10 non-null     object\n",
      " 5   id          10 non-null     object\n",
      "dtypes: int64(3), object(3)\n",
      "memory usage: 608.0+ bytes\n"
     ]
    }
   ],
   "source": [
    "portfolio.info()\n"
   ]
  },
  {
   "cell_type": "code",
   "execution_count": 4,
   "metadata": {},
   "outputs": [
    {
     "data": {
      "text/html": [
       "<div>\n",
       "<style scoped>\n",
       "    .dataframe tbody tr th:only-of-type {\n",
       "        vertical-align: middle;\n",
       "    }\n",
       "\n",
       "    .dataframe tbody tr th {\n",
       "        vertical-align: top;\n",
       "    }\n",
       "\n",
       "    .dataframe thead th {\n",
       "        text-align: right;\n",
       "    }\n",
       "</style>\n",
       "<table border=\"1\" class=\"dataframe\">\n",
       "  <thead>\n",
       "    <tr style=\"text-align: right;\">\n",
       "      <th></th>\n",
       "      <th>reward</th>\n",
       "      <th>channels</th>\n",
       "      <th>difficulty</th>\n",
       "      <th>duration</th>\n",
       "      <th>offer_type</th>\n",
       "      <th>id</th>\n",
       "    </tr>\n",
       "  </thead>\n",
       "  <tbody>\n",
       "    <tr>\n",
       "      <th>0</th>\n",
       "      <td>10</td>\n",
       "      <td>[email, mobile, social]</td>\n",
       "      <td>10</td>\n",
       "      <td>7</td>\n",
       "      <td>bogo</td>\n",
       "      <td>ae264e3637204a6fb9bb56bc8210ddfd</td>\n",
       "    </tr>\n",
       "    <tr>\n",
       "      <th>1</th>\n",
       "      <td>10</td>\n",
       "      <td>[web, email, mobile, social]</td>\n",
       "      <td>10</td>\n",
       "      <td>5</td>\n",
       "      <td>bogo</td>\n",
       "      <td>4d5c57ea9a6940dd891ad53e9dbe8da0</td>\n",
       "    </tr>\n",
       "    <tr>\n",
       "      <th>2</th>\n",
       "      <td>0</td>\n",
       "      <td>[web, email, mobile]</td>\n",
       "      <td>0</td>\n",
       "      <td>4</td>\n",
       "      <td>informational</td>\n",
       "      <td>3f207df678b143eea3cee63160fa8bed</td>\n",
       "    </tr>\n",
       "    <tr>\n",
       "      <th>3</th>\n",
       "      <td>5</td>\n",
       "      <td>[web, email, mobile]</td>\n",
       "      <td>5</td>\n",
       "      <td>7</td>\n",
       "      <td>bogo</td>\n",
       "      <td>9b98b8c7a33c4b65b9aebfe6a799e6d9</td>\n",
       "    </tr>\n",
       "    <tr>\n",
       "      <th>4</th>\n",
       "      <td>5</td>\n",
       "      <td>[web, email]</td>\n",
       "      <td>20</td>\n",
       "      <td>10</td>\n",
       "      <td>discount</td>\n",
       "      <td>0b1e1539f2cc45b7b9fa7c272da2e1d7</td>\n",
       "    </tr>\n",
       "  </tbody>\n",
       "</table>\n",
       "</div>"
      ],
      "text/plain": [
       "   reward                      channels  difficulty  duration     offer_type  \\\n",
       "0      10       [email, mobile, social]          10         7           bogo   \n",
       "1      10  [web, email, mobile, social]          10         5           bogo   \n",
       "2       0          [web, email, mobile]           0         4  informational   \n",
       "3       5          [web, email, mobile]           5         7           bogo   \n",
       "4       5                  [web, email]          20        10       discount   \n",
       "\n",
       "                                 id  \n",
       "0  ae264e3637204a6fb9bb56bc8210ddfd  \n",
       "1  4d5c57ea9a6940dd891ad53e9dbe8da0  \n",
       "2  3f207df678b143eea3cee63160fa8bed  \n",
       "3  9b98b8c7a33c4b65b9aebfe6a799e6d9  \n",
       "4  0b1e1539f2cc45b7b9fa7c272da2e1d7  "
      ]
     },
     "execution_count": 4,
     "metadata": {},
     "output_type": "execute_result"
    }
   ],
   "source": [
    "portfolio.head()\n"
   ]
  },
  {
   "cell_type": "markdown",
   "metadata": {},
   "source": [
    "- 只有10个数据 对应不同的推送活动 所以 ifficulty,duration, offer_type,reward可以合并起来 作为一个完整的推送活动名字\n",
    "- channels 列可以做成onehot编码\n",
    "    \n",
    "    \n",
    "- Only 10 data, so the information of 'offer_type', 'difficulty', 'duration', 'reward'  can all be seen as special content of one offer type, and can be added into one\n",
    "- The channels column needs to be one-hot encoded.\n"
   ]
  },
  {
   "cell_type": "code",
   "execution_count": 5,
   "metadata": {},
   "outputs": [],
   "source": [
    "# 函数: 对portfolio前处理\n",
    "def portfolio_prep(df):\n",
    "    # df = portfolio\n",
    "    # one hot encoded   channels 4 class\n",
    "    df = df.copy()\n",
    "    list_channels = ['web', 'email', 'mobile', 'social']\n",
    "\n",
    "    for ch in list_channels:\n",
    "        # ch = list_channels[0]\n",
    "        df[ch] = df.channels.apply(lambda x: 1 if ch in x else 0)\n",
    "\n",
    "    df = df.drop('channels', axis=1)\n",
    "\n",
    "    df['offername'] = df.offer_type.astype(str) +'_'+ df.difficulty.astype(str) +'_'+ \\\n",
    "        df.duration.astype(str) +'_'+  df.reward.astype(str)\n",
    "    \n",
    "    # df = df.drop( ['offer_type', 'difficulty', 'duration', 'reward']  , axis=1)\n",
    "   \n",
    "    return df"
   ]
  },
  {
   "cell_type": "code",
   "execution_count": 6,
   "metadata": {},
   "outputs": [
    {
     "data": {
      "text/html": [
       "<div>\n",
       "<style scoped>\n",
       "    .dataframe tbody tr th:only-of-type {\n",
       "        vertical-align: middle;\n",
       "    }\n",
       "\n",
       "    .dataframe tbody tr th {\n",
       "        vertical-align: top;\n",
       "    }\n",
       "\n",
       "    .dataframe thead th {\n",
       "        text-align: right;\n",
       "    }\n",
       "</style>\n",
       "<table border=\"1\" class=\"dataframe\">\n",
       "  <thead>\n",
       "    <tr style=\"text-align: right;\">\n",
       "      <th></th>\n",
       "      <th>reward</th>\n",
       "      <th>difficulty</th>\n",
       "      <th>duration</th>\n",
       "      <th>offer_type</th>\n",
       "      <th>id</th>\n",
       "      <th>web</th>\n",
       "      <th>email</th>\n",
       "      <th>mobile</th>\n",
       "      <th>social</th>\n",
       "      <th>offername</th>\n",
       "    </tr>\n",
       "  </thead>\n",
       "  <tbody>\n",
       "    <tr>\n",
       "      <th>0</th>\n",
       "      <td>10</td>\n",
       "      <td>10</td>\n",
       "      <td>7</td>\n",
       "      <td>bogo</td>\n",
       "      <td>ae264e3637204a6fb9bb56bc8210ddfd</td>\n",
       "      <td>0</td>\n",
       "      <td>1</td>\n",
       "      <td>1</td>\n",
       "      <td>1</td>\n",
       "      <td>bogo_10_7_10</td>\n",
       "    </tr>\n",
       "    <tr>\n",
       "      <th>1</th>\n",
       "      <td>10</td>\n",
       "      <td>10</td>\n",
       "      <td>5</td>\n",
       "      <td>bogo</td>\n",
       "      <td>4d5c57ea9a6940dd891ad53e9dbe8da0</td>\n",
       "      <td>1</td>\n",
       "      <td>1</td>\n",
       "      <td>1</td>\n",
       "      <td>1</td>\n",
       "      <td>bogo_10_5_10</td>\n",
       "    </tr>\n",
       "    <tr>\n",
       "      <th>2</th>\n",
       "      <td>0</td>\n",
       "      <td>0</td>\n",
       "      <td>4</td>\n",
       "      <td>informational</td>\n",
       "      <td>3f207df678b143eea3cee63160fa8bed</td>\n",
       "      <td>1</td>\n",
       "      <td>1</td>\n",
       "      <td>1</td>\n",
       "      <td>0</td>\n",
       "      <td>informational_0_4_0</td>\n",
       "    </tr>\n",
       "    <tr>\n",
       "      <th>3</th>\n",
       "      <td>5</td>\n",
       "      <td>5</td>\n",
       "      <td>7</td>\n",
       "      <td>bogo</td>\n",
       "      <td>9b98b8c7a33c4b65b9aebfe6a799e6d9</td>\n",
       "      <td>1</td>\n",
       "      <td>1</td>\n",
       "      <td>1</td>\n",
       "      <td>0</td>\n",
       "      <td>bogo_5_7_5</td>\n",
       "    </tr>\n",
       "    <tr>\n",
       "      <th>4</th>\n",
       "      <td>5</td>\n",
       "      <td>20</td>\n",
       "      <td>10</td>\n",
       "      <td>discount</td>\n",
       "      <td>0b1e1539f2cc45b7b9fa7c272da2e1d7</td>\n",
       "      <td>1</td>\n",
       "      <td>1</td>\n",
       "      <td>0</td>\n",
       "      <td>0</td>\n",
       "      <td>discount_20_10_5</td>\n",
       "    </tr>\n",
       "    <tr>\n",
       "      <th>5</th>\n",
       "      <td>3</td>\n",
       "      <td>7</td>\n",
       "      <td>7</td>\n",
       "      <td>discount</td>\n",
       "      <td>2298d6c36e964ae4a3e7e9706d1fb8c2</td>\n",
       "      <td>1</td>\n",
       "      <td>1</td>\n",
       "      <td>1</td>\n",
       "      <td>1</td>\n",
       "      <td>discount_7_7_3</td>\n",
       "    </tr>\n",
       "    <tr>\n",
       "      <th>6</th>\n",
       "      <td>2</td>\n",
       "      <td>10</td>\n",
       "      <td>10</td>\n",
       "      <td>discount</td>\n",
       "      <td>fafdcd668e3743c1bb461111dcafc2a4</td>\n",
       "      <td>1</td>\n",
       "      <td>1</td>\n",
       "      <td>1</td>\n",
       "      <td>1</td>\n",
       "      <td>discount_10_10_2</td>\n",
       "    </tr>\n",
       "    <tr>\n",
       "      <th>7</th>\n",
       "      <td>0</td>\n",
       "      <td>0</td>\n",
       "      <td>3</td>\n",
       "      <td>informational</td>\n",
       "      <td>5a8bc65990b245e5a138643cd4eb9837</td>\n",
       "      <td>0</td>\n",
       "      <td>1</td>\n",
       "      <td>1</td>\n",
       "      <td>1</td>\n",
       "      <td>informational_0_3_0</td>\n",
       "    </tr>\n",
       "    <tr>\n",
       "      <th>8</th>\n",
       "      <td>5</td>\n",
       "      <td>5</td>\n",
       "      <td>5</td>\n",
       "      <td>bogo</td>\n",
       "      <td>f19421c1d4aa40978ebb69ca19b0e20d</td>\n",
       "      <td>1</td>\n",
       "      <td>1</td>\n",
       "      <td>1</td>\n",
       "      <td>1</td>\n",
       "      <td>bogo_5_5_5</td>\n",
       "    </tr>\n",
       "    <tr>\n",
       "      <th>9</th>\n",
       "      <td>2</td>\n",
       "      <td>10</td>\n",
       "      <td>7</td>\n",
       "      <td>discount</td>\n",
       "      <td>2906b810c7d4411798c6938adc9daaa5</td>\n",
       "      <td>1</td>\n",
       "      <td>1</td>\n",
       "      <td>1</td>\n",
       "      <td>0</td>\n",
       "      <td>discount_10_7_2</td>\n",
       "    </tr>\n",
       "  </tbody>\n",
       "</table>\n",
       "</div>"
      ],
      "text/plain": [
       "   reward  difficulty  duration     offer_type  \\\n",
       "0      10          10         7           bogo   \n",
       "1      10          10         5           bogo   \n",
       "2       0           0         4  informational   \n",
       "3       5           5         7           bogo   \n",
       "4       5          20        10       discount   \n",
       "5       3           7         7       discount   \n",
       "6       2          10        10       discount   \n",
       "7       0           0         3  informational   \n",
       "8       5           5         5           bogo   \n",
       "9       2          10         7       discount   \n",
       "\n",
       "                                 id  web  email  mobile  social  \\\n",
       "0  ae264e3637204a6fb9bb56bc8210ddfd    0      1       1       1   \n",
       "1  4d5c57ea9a6940dd891ad53e9dbe8da0    1      1       1       1   \n",
       "2  3f207df678b143eea3cee63160fa8bed    1      1       1       0   \n",
       "3  9b98b8c7a33c4b65b9aebfe6a799e6d9    1      1       1       0   \n",
       "4  0b1e1539f2cc45b7b9fa7c272da2e1d7    1      1       0       0   \n",
       "5  2298d6c36e964ae4a3e7e9706d1fb8c2    1      1       1       1   \n",
       "6  fafdcd668e3743c1bb461111dcafc2a4    1      1       1       1   \n",
       "7  5a8bc65990b245e5a138643cd4eb9837    0      1       1       1   \n",
       "8  f19421c1d4aa40978ebb69ca19b0e20d    1      1       1       1   \n",
       "9  2906b810c7d4411798c6938adc9daaa5    1      1       1       0   \n",
       "\n",
       "             offername  \n",
       "0         bogo_10_7_10  \n",
       "1         bogo_10_5_10  \n",
       "2  informational_0_4_0  \n",
       "3           bogo_5_7_5  \n",
       "4     discount_20_10_5  \n",
       "5       discount_7_7_3  \n",
       "6     discount_10_10_2  \n",
       "7  informational_0_3_0  \n",
       "8           bogo_5_5_5  \n",
       "9      discount_10_7_2  "
      ]
     },
     "execution_count": 6,
     "metadata": {},
     "output_type": "execute_result"
    }
   ],
   "source": [
    "portfolio_clean = portfolio_prep( portfolio ) \n",
    "portfolio_clean"
   ]
  },
  {
   "cell_type": "markdown",
   "metadata": {},
   "source": [
    "## 概览profile"
   ]
  },
  {
   "cell_type": "code",
   "execution_count": 7,
   "metadata": {},
   "outputs": [
    {
     "data": {
      "text/html": [
       "<div>\n",
       "<style scoped>\n",
       "    .dataframe tbody tr th:only-of-type {\n",
       "        vertical-align: middle;\n",
       "    }\n",
       "\n",
       "    .dataframe tbody tr th {\n",
       "        vertical-align: top;\n",
       "    }\n",
       "\n",
       "    .dataframe thead th {\n",
       "        text-align: right;\n",
       "    }\n",
       "</style>\n",
       "<table border=\"1\" class=\"dataframe\">\n",
       "  <thead>\n",
       "    <tr style=\"text-align: right;\">\n",
       "      <th></th>\n",
       "      <th>gender</th>\n",
       "      <th>age</th>\n",
       "      <th>id</th>\n",
       "      <th>became_member_on</th>\n",
       "      <th>income</th>\n",
       "    </tr>\n",
       "  </thead>\n",
       "  <tbody>\n",
       "    <tr>\n",
       "      <th>0</th>\n",
       "      <td>None</td>\n",
       "      <td>118</td>\n",
       "      <td>68be06ca386d4c31939f3a4f0e3dd783</td>\n",
       "      <td>20170212</td>\n",
       "      <td>NaN</td>\n",
       "    </tr>\n",
       "    <tr>\n",
       "      <th>1</th>\n",
       "      <td>F</td>\n",
       "      <td>55</td>\n",
       "      <td>0610b486422d4921ae7d2bf64640c50b</td>\n",
       "      <td>20170715</td>\n",
       "      <td>112000.0</td>\n",
       "    </tr>\n",
       "    <tr>\n",
       "      <th>2</th>\n",
       "      <td>None</td>\n",
       "      <td>118</td>\n",
       "      <td>38fe809add3b4fcf9315a9694bb96ff5</td>\n",
       "      <td>20180712</td>\n",
       "      <td>NaN</td>\n",
       "    </tr>\n",
       "    <tr>\n",
       "      <th>3</th>\n",
       "      <td>F</td>\n",
       "      <td>75</td>\n",
       "      <td>78afa995795e4d85b5d9ceeca43f5fef</td>\n",
       "      <td>20170509</td>\n",
       "      <td>100000.0</td>\n",
       "    </tr>\n",
       "    <tr>\n",
       "      <th>4</th>\n",
       "      <td>None</td>\n",
       "      <td>118</td>\n",
       "      <td>a03223e636434f42ac4c3df47e8bac43</td>\n",
       "      <td>20170804</td>\n",
       "      <td>NaN</td>\n",
       "    </tr>\n",
       "  </tbody>\n",
       "</table>\n",
       "</div>"
      ],
      "text/plain": [
       "  gender  age                                id  became_member_on    income\n",
       "0   None  118  68be06ca386d4c31939f3a4f0e3dd783          20170212       NaN\n",
       "1      F   55  0610b486422d4921ae7d2bf64640c50b          20170715  112000.0\n",
       "2   None  118  38fe809add3b4fcf9315a9694bb96ff5          20180712       NaN\n",
       "3      F   75  78afa995795e4d85b5d9ceeca43f5fef          20170509  100000.0\n",
       "4   None  118  a03223e636434f42ac4c3df47e8bac43          20170804       NaN"
      ]
     },
     "execution_count": 7,
     "metadata": {},
     "output_type": "execute_result"
    }
   ],
   "source": [
    "profile.head()"
   ]
  },
  {
   "cell_type": "code",
   "execution_count": 8,
   "metadata": {},
   "outputs": [
    {
     "name": "stdout",
     "output_type": "stream",
     "text": [
      "<class 'pandas.core.frame.DataFrame'>\n",
      "RangeIndex: 17000 entries, 0 to 16999\n",
      "Data columns (total 5 columns):\n",
      " #   Column            Non-Null Count  Dtype  \n",
      "---  ------            --------------  -----  \n",
      " 0   gender            14825 non-null  object \n",
      " 1   age               17000 non-null  int64  \n",
      " 2   id                17000 non-null  object \n",
      " 3   became_member_on  17000 non-null  int64  \n",
      " 4   income            14825 non-null  float64\n",
      "dtypes: float64(1), int64(2), object(2)\n",
      "memory usage: 664.2+ KB\n"
     ]
    }
   ],
   "source": [
    "profile.info()\n",
    "# `became_member_on` data type is int64, need to parse to dates."
   ]
  },
  {
   "cell_type": "markdown",
   "metadata": {},
   "source": [
    "- gender 和 income存在缺失数据   \n",
    "- became_member_on 应该转化为datetime, 做特征工程的时候 可以减去某个初始值转化为整数\n",
    "    \n",
    "    \n",
    "- There are some missing data for gender and income\n",
    "- became_member_on should be converted to datetime. When doing feature engineering later, became_member_on column can subtract an initial value and convert to an integer"
   ]
  },
  {
   "cell_type": "markdown",
   "metadata": {},
   "source": [
    "### age 和 income"
   ]
  },
  {
   "cell_type": "code",
   "execution_count": 9,
   "metadata": {},
   "outputs": [
    {
     "data": {
      "text/html": [
       "<div>\n",
       "<style scoped>\n",
       "    .dataframe tbody tr th:only-of-type {\n",
       "        vertical-align: middle;\n",
       "    }\n",
       "\n",
       "    .dataframe tbody tr th {\n",
       "        vertical-align: top;\n",
       "    }\n",
       "\n",
       "    .dataframe thead th {\n",
       "        text-align: right;\n",
       "    }\n",
       "</style>\n",
       "<table border=\"1\" class=\"dataframe\">\n",
       "  <thead>\n",
       "    <tr style=\"text-align: right;\">\n",
       "      <th></th>\n",
       "      <th>age</th>\n",
       "      <th>income</th>\n",
       "    </tr>\n",
       "  </thead>\n",
       "  <tbody>\n",
       "    <tr>\n",
       "      <th>count</th>\n",
       "      <td>17000.000000</td>\n",
       "      <td>14825.000000</td>\n",
       "    </tr>\n",
       "    <tr>\n",
       "      <th>mean</th>\n",
       "      <td>62.531412</td>\n",
       "      <td>65404.991568</td>\n",
       "    </tr>\n",
       "    <tr>\n",
       "      <th>std</th>\n",
       "      <td>26.738580</td>\n",
       "      <td>21598.299410</td>\n",
       "    </tr>\n",
       "    <tr>\n",
       "      <th>min</th>\n",
       "      <td>18.000000</td>\n",
       "      <td>30000.000000</td>\n",
       "    </tr>\n",
       "    <tr>\n",
       "      <th>25%</th>\n",
       "      <td>45.000000</td>\n",
       "      <td>49000.000000</td>\n",
       "    </tr>\n",
       "    <tr>\n",
       "      <th>50%</th>\n",
       "      <td>58.000000</td>\n",
       "      <td>64000.000000</td>\n",
       "    </tr>\n",
       "    <tr>\n",
       "      <th>75%</th>\n",
       "      <td>73.000000</td>\n",
       "      <td>80000.000000</td>\n",
       "    </tr>\n",
       "    <tr>\n",
       "      <th>max</th>\n",
       "      <td>118.000000</td>\n",
       "      <td>120000.000000</td>\n",
       "    </tr>\n",
       "  </tbody>\n",
       "</table>\n",
       "</div>"
      ],
      "text/plain": [
       "                age         income\n",
       "count  17000.000000   14825.000000\n",
       "mean      62.531412   65404.991568\n",
       "std       26.738580   21598.299410\n",
       "min       18.000000   30000.000000\n",
       "25%       45.000000   49000.000000\n",
       "50%       58.000000   64000.000000\n",
       "75%       73.000000   80000.000000\n",
       "max      118.000000  120000.000000"
      ]
     },
     "execution_count": 9,
     "metadata": {},
     "output_type": "execute_result"
    }
   ],
   "source": [
    "profile[['age', 'income']].describe()"
   ]
  },
  {
   "cell_type": "code",
   "execution_count": 10,
   "metadata": {},
   "outputs": [
    {
     "data": {
      "image/png": "[encoded data removed]",
      "text/plain": [
       "<Figure size 720x360 with 4 Axes>"
      ]
     },
     "metadata": {
      "needs_background": "light"
     },
     "output_type": "display_data"
    }
   ],
   "source": [
    "profile[['age', 'income', 'became_member_on']].hist(figsize=(10,5));\n"
   ]
  },
  {
   "cell_type": "markdown",
   "metadata": {},
   "source": [
    "- age数据里 有太多118岁的 看上去不正常,总共2175人\n",
    "- age和income 基本符合正态分布，became_member人数 每年逐渐增多\n",
    "    \n",
    "    \n",
    "- to much 118 years old people (2175) in age columns, seems abnormal\n",
    "- age and income basically conform to the normal distribution, the number of become_member gradually increases every year"
   ]
  },
  {
   "cell_type": "code",
   "execution_count": 11,
   "metadata": {},
   "outputs": [
    {
     "data": {
      "text/plain": [
       "118    2175\n",
       "Name: age, dtype: int64"
      ]
     },
     "execution_count": 11,
     "metadata": {},
     "output_type": "execute_result"
    }
   ],
   "source": [
    "profile[profile.age == 118]['age'].value_counts()  # 2175\n"
   ]
  },
  {
   "cell_type": "markdown",
   "metadata": {},
   "source": [
    "### 列缺失"
   ]
  },
  {
   "cell_type": "code",
   "execution_count": 12,
   "metadata": {},
   "outputs": [
    {
     "data": {
      "text/plain": [
       "gender              2175\n",
       "age                    0\n",
       "id                     0\n",
       "became_member_on       0\n",
       "income              2175\n",
       "dtype: int64"
      ]
     },
     "execution_count": 12,
     "metadata": {},
     "output_type": "execute_result"
    }
   ],
   "source": [
    "profile.isnull().sum()  #  gender 2175, income 2175\n"
   ]
  },
  {
   "cell_type": "code",
   "execution_count": 13,
   "metadata": {},
   "outputs": [
    {
     "data": {
      "text/html": [
       "<div>\n",
       "<style scoped>\n",
       "    .dataframe tbody tr th:only-of-type {\n",
       "        vertical-align: middle;\n",
       "    }\n",
       "\n",
       "    .dataframe tbody tr th {\n",
       "        vertical-align: top;\n",
       "    }\n",
       "\n",
       "    .dataframe thead th {\n",
       "        text-align: right;\n",
       "    }\n",
       "</style>\n",
       "<table border=\"1\" class=\"dataframe\">\n",
       "  <thead>\n",
       "    <tr style=\"text-align: right;\">\n",
       "      <th></th>\n",
       "      <th>gender</th>\n",
       "      <th>income</th>\n",
       "    </tr>\n",
       "  </thead>\n",
       "  <tbody>\n",
       "    <tr>\n",
       "      <th>0</th>\n",
       "      <td>None</td>\n",
       "      <td>NaN</td>\n",
       "    </tr>\n",
       "    <tr>\n",
       "      <th>2</th>\n",
       "      <td>None</td>\n",
       "      <td>NaN</td>\n",
       "    </tr>\n",
       "    <tr>\n",
       "      <th>4</th>\n",
       "      <td>None</td>\n",
       "      <td>NaN</td>\n",
       "    </tr>\n",
       "    <tr>\n",
       "      <th>6</th>\n",
       "      <td>None</td>\n",
       "      <td>NaN</td>\n",
       "    </tr>\n",
       "    <tr>\n",
       "      <th>7</th>\n",
       "      <td>None</td>\n",
       "      <td>NaN</td>\n",
       "    </tr>\n",
       "    <tr>\n",
       "      <th>...</th>\n",
       "      <td>...</td>\n",
       "      <td>...</td>\n",
       "    </tr>\n",
       "    <tr>\n",
       "      <th>16980</th>\n",
       "      <td>None</td>\n",
       "      <td>NaN</td>\n",
       "    </tr>\n",
       "    <tr>\n",
       "      <th>16982</th>\n",
       "      <td>None</td>\n",
       "      <td>NaN</td>\n",
       "    </tr>\n",
       "    <tr>\n",
       "      <th>16989</th>\n",
       "      <td>None</td>\n",
       "      <td>NaN</td>\n",
       "    </tr>\n",
       "    <tr>\n",
       "      <th>16991</th>\n",
       "      <td>None</td>\n",
       "      <td>NaN</td>\n",
       "    </tr>\n",
       "    <tr>\n",
       "      <th>16994</th>\n",
       "      <td>None</td>\n",
       "      <td>NaN</td>\n",
       "    </tr>\n",
       "  </tbody>\n",
       "</table>\n",
       "<p>2175 rows × 2 columns</p>\n",
       "</div>"
      ],
      "text/plain": [
       "      gender  income\n",
       "0       None     NaN\n",
       "2       None     NaN\n",
       "4       None     NaN\n",
       "6       None     NaN\n",
       "7       None     NaN\n",
       "...      ...     ...\n",
       "16980   None     NaN\n",
       "16982   None     NaN\n",
       "16989   None     NaN\n",
       "16991   None     NaN\n",
       "16994   None     NaN\n",
       "\n",
       "[2175 rows x 2 columns]"
      ]
     },
     "execution_count": 13,
     "metadata": {},
     "output_type": "execute_result"
    }
   ],
   "source": [
    "profile[profile.age == 118][ ['gender', 'income'] ]\n"
   ]
  },
  {
   "cell_type": "markdown",
   "metadata": {},
   "source": [
    "- 118岁的用户 在income和gender上都缺失了信息 如果不影响整体特征分布 可以考虑删除。\n",
    "    \n",
    "    \n",
    "- Age at where 118 all missing values in income and gender columns. If it does not affect the overall feature distribution, consider delete these."
   ]
  },
  {
   "cell_type": "markdown",
   "metadata": {},
   "source": [
    "### 重复"
   ]
  },
  {
   "cell_type": "code",
   "execution_count": 14,
   "metadata": {},
   "outputs": [
    {
     "data": {
      "text/plain": [
       "0"
      ]
     },
     "execution_count": 14,
     "metadata": {},
     "output_type": "execute_result"
    }
   ],
   "source": [
    "profile.id.duplicated().sum()  # 无重复"
   ]
  },
  {
   "cell_type": "markdown",
   "metadata": {},
   "source": [
    "### income vs gender"
   ]
  },
  {
   "cell_type": "code",
   "execution_count": 15,
   "metadata": {},
   "outputs": [
    {
     "data": {
      "text/plain": [
       "M    8484\n",
       "F    6129\n",
       "O     212\n",
       "Name: gender, dtype: int64"
      ]
     },
     "execution_count": 15,
     "metadata": {},
     "output_type": "execute_result"
    }
   ],
   "source": [
    "profile.gender.value_counts()"
   ]
  },
  {
   "cell_type": "code",
   "execution_count": 16,
   "metadata": {},
   "outputs": [
    {
     "data": {
      "image/png": "[encoded data removed]",
      "text/plain": [
       "<Figure size 1080x360 with 3 Axes>"
      ]
     },
     "metadata": {
      "needs_background": "light"
     },
     "output_type": "display_data"
    }
   ],
   "source": [
    "# 分析性别 和 income， 作图 性别count， 不同性别-income hist分布，不同性别-income box图\n",
    "f, (ax1,ax2,ax3) = plt.subplots(1,3, figsize=(15,5))\n",
    "\n",
    "# gender distribution bar\n",
    "profile.gender.value_counts().plot(kind='bar', ax=ax1)\n",
    "ax1.set_xticklabels(ax1.get_xticklabels(), rotation=0)\n",
    "ax1.set_title('Gender Distribution')\n",
    "ax1.set_ylabel('Count')\n",
    "\n",
    "# different gender's income distribution histogram\n",
    "ax2.hist(profile[profile.gender == 'M']['income'], alpha=0.5, label='M')\n",
    "ax2.hist(profile[profile.gender == 'F']['income'], alpha=0.5, label='F')\n",
    "ax2.hist(profile[profile.gender == 'O']['income'], alpha=0.5, label='O')\n",
    "ax2.set_xlabel('$ Income')\n",
    "ax2.set_ylabel('Count')\n",
    "ax2.set_title('Income Distribution')\n",
    "ax2.legend()\n",
    "\n",
    "# different gender's income statics box\n",
    "sns.boxplot('gender', 'income', data=profile, ax=ax3, order=['M', 'F', 'O'])\n",
    "\n",
    "plt.tight_layout()\n"
   ]
  },
  {
   "cell_type": "markdown",
   "metadata": {},
   "source": [
    "- 男性人数较多 女性其次 还有212个没有性别的\n",
    "- 女性平均收入较高 其次是无性别的 \n",
    "  \n",
    "  \n",
    "- There are more men than women, and 212 people with no gender imfornation.\n",
    "- Women's average income is higher, followed by genderless"
   ]
  },
  {
   "cell_type": "markdown",
   "metadata": {},
   "source": [
    "### 转换时间类型"
   ]
  },
  {
   "cell_type": "code",
   "execution_count": 17,
   "metadata": {},
   "outputs": [],
   "source": [
    "\n",
    "def profile_prep_dates(df):\n",
    "    # df = profile\n",
    "    df = df.copy()\n",
    "    #convert to string\n",
    "    df['became_member_on'] = pd.to_datetime( df.became_member_on.apply(lambda x: str(x)) )\n",
    "    return df\n",
    "\n",
    "profile_clean = profile_prep_dates(profile)"
   ]
  },
  {
   "cell_type": "markdown",
   "metadata": {},
   "source": [
    "###  行缺失"
   ]
  },
  {
   "cell_type": "code",
   "execution_count": 18,
   "metadata": {},
   "outputs": [
    {
     "data": {
      "text/plain": [
       "0    14825\n",
       "2     2175\n",
       "dtype: int64"
      ]
     },
     "execution_count": 18,
     "metadata": {},
     "output_type": "execute_result"
    }
   ],
   "source": [
    "# How much data is missing in each row of profiile  dataset?\n",
    "row_null = profile_clean.isnull().sum(axis=1)\n",
    "row_null.value_counts()\n"
   ]
  },
  {
   "cell_type": "markdown",
   "metadata": {},
   "source": [
    "- 有2175行缺少了2个特征 占总数的14%\n",
    "    \n",
    "    \n",
    "- There are 2175 rows missing 2 features, 14% of the total"
   ]
  },
  {
   "cell_type": "code",
   "execution_count": 19,
   "metadata": {},
   "outputs": [
    {
     "data": {
      "image/png": "[encoded data removed]",
      "text/plain": [
       "<Figure size 576x288 with 2 Axes>"
      ]
     },
     "metadata": {
      "needs_background": "light"
     },
     "output_type": "display_data"
    },
    {
     "data": {
      "image/png": "[encoded data removed]",
      "text/plain": [
       "<Figure size 576x288 with 2 Axes>"
      ]
     },
     "metadata": {
      "needs_background": "light"
     },
     "output_type": "display_data"
    },
    {
     "data": {
      "image/png": "[encoded data removed]",
      "text/plain": [
       "<Figure size 576x288 with 2 Axes>"
      ]
     },
     "metadata": {
      "needs_background": "light"
     },
     "output_type": "display_data"
    },
    {
     "data": {
      "image/png": "[encoded data removed]",
      "text/plain": [
       "<Figure size 576x288 with 2 Axes>"
      ]
     },
     "metadata": {
      "needs_background": "light"
     },
     "output_type": "display_data"
    }
   ],
   "source": [
    "#%%  比较 行缺失 vs 无缺失，在各列下的分布图  有无明显差别 \n",
    "\n",
    "profile_wonull = profile_clean[row_null ==0]\n",
    "profile_winull = profile_clean[row_null > 0]\n",
    "\n",
    "\n",
    "for col in ['age', 'became_member_on','gender', 'income']:\n",
    "    # col = 'became_member_on'\n",
    "    f, (ax1,ax2) = plt.subplots(1,2, figsize=(8,4))\n",
    "   \n",
    "    if col == 'gender':\n",
    "        # col = 'gender'\n",
    "        profile_wonull[col].value_counts().plot(kind='bar', ax=ax1)\n",
    "        ax1.set_xticklabels(ax1.xaxis.get_majorticklabels(),rotation=0)\n",
    "        try :\n",
    "            profile_winull[col].value_counts().plot(kind='bar', ax=ax2)\n",
    "            \n",
    "        except:\n",
    "            pass\n",
    "    else:\n",
    "        profile_wonull[col].hist(ax=ax1)\n",
    "        profile_winull[col].hist(ax=ax2)\n",
    "    \n",
    "    ax1.grid(False)\n",
    "    ax2.grid(False)\n",
    "    ax1.set_title('no missing value' )\n",
    "    ax2.set_title('with missing value')\n",
    "    f.suptitle('Feature: ' + col)\n",
    "    f.tight_layout()\n",
    "    f.subplots_adjust(top=0.85)\n",
    "    "
   ]
  },
  {
   "cell_type": "markdown",
   "metadata": {},
   "source": [
    "- 对于缺失数据的行，在　became_member_on这个特征上和无缺失行　没有明显的分布规律差别,可以删除\n",
    "    \n",
    "    \n",
    "- For rows with missing data, there is no obvious difference in the distribution pattern of \"became_member_on\" with no missing rows. These rows can be deleted."
   ]
  },
  {
   "cell_type": "code",
   "execution_count": 20,
   "metadata": {},
   "outputs": [
    {
     "name": "stdout",
     "output_type": "stream",
     "text": [
      "<class 'pandas.core.frame.DataFrame'>\n",
      "RangeIndex: 17000 entries, 0 to 16999\n",
      "Data columns (total 5 columns):\n",
      " #   Column            Non-Null Count  Dtype         \n",
      "---  ------            --------------  -----         \n",
      " 0   gender            14825 non-null  object        \n",
      " 1   age               17000 non-null  int64         \n",
      " 2   id                17000 non-null  object        \n",
      " 3   became_member_on  17000 non-null  datetime64[ns]\n",
      " 4   income            14825 non-null  float64       \n",
      "dtypes: datetime64[ns](1), float64(1), int64(1), object(2)\n",
      "memory usage: 664.2+ KB\n"
     ]
    }
   ],
   "source": [
    "profile_clean.info()\n"
   ]
  },
  {
   "cell_type": "markdown",
   "metadata": {},
   "source": [
    "## 概览 Transcript"
   ]
  },
  {
   "cell_type": "code",
   "execution_count": 21,
   "metadata": {},
   "outputs": [
    {
     "data": {
      "text/html": [
       "<div>\n",
       "<style scoped>\n",
       "    .dataframe tbody tr th:only-of-type {\n",
       "        vertical-align: middle;\n",
       "    }\n",
       "\n",
       "    .dataframe tbody tr th {\n",
       "        vertical-align: top;\n",
       "    }\n",
       "\n",
       "    .dataframe thead th {\n",
       "        text-align: right;\n",
       "    }\n",
       "</style>\n",
       "<table border=\"1\" class=\"dataframe\">\n",
       "  <thead>\n",
       "    <tr style=\"text-align: right;\">\n",
       "      <th></th>\n",
       "      <th>person</th>\n",
       "      <th>event</th>\n",
       "      <th>value</th>\n",
       "      <th>time</th>\n",
       "    </tr>\n",
       "  </thead>\n",
       "  <tbody>\n",
       "    <tr>\n",
       "      <th>0</th>\n",
       "      <td>78afa995795e4d85b5d9ceeca43f5fef</td>\n",
       "      <td>offer received</td>\n",
       "      <td>{'offer id': '9b98b8c7a33c4b65b9aebfe6a799e6d9'}</td>\n",
       "      <td>0</td>\n",
       "    </tr>\n",
       "    <tr>\n",
       "      <th>1</th>\n",
       "      <td>a03223e636434f42ac4c3df47e8bac43</td>\n",
       "      <td>offer received</td>\n",
       "      <td>{'offer id': '0b1e1539f2cc45b7b9fa7c272da2e1d7'}</td>\n",
       "      <td>0</td>\n",
       "    </tr>\n",
       "    <tr>\n",
       "      <th>2</th>\n",
       "      <td>e2127556f4f64592b11af22de27a7932</td>\n",
       "      <td>offer received</td>\n",
       "      <td>{'offer id': '2906b810c7d4411798c6938adc9daaa5'}</td>\n",
       "      <td>0</td>\n",
       "    </tr>\n",
       "    <tr>\n",
       "      <th>3</th>\n",
       "      <td>8ec6ce2a7e7949b1bf142def7d0e0586</td>\n",
       "      <td>offer received</td>\n",
       "      <td>{'offer id': 'fafdcd668e3743c1bb461111dcafc2a4'}</td>\n",
       "      <td>0</td>\n",
       "    </tr>\n",
       "    <tr>\n",
       "      <th>4</th>\n",
       "      <td>68617ca6246f4fbc85e91a2a49552598</td>\n",
       "      <td>offer received</td>\n",
       "      <td>{'offer id': '4d5c57ea9a6940dd891ad53e9dbe8da0'}</td>\n",
       "      <td>0</td>\n",
       "    </tr>\n",
       "  </tbody>\n",
       "</table>\n",
       "</div>"
      ],
      "text/plain": [
       "                             person           event  \\\n",
       "0  78afa995795e4d85b5d9ceeca43f5fef  offer received   \n",
       "1  a03223e636434f42ac4c3df47e8bac43  offer received   \n",
       "2  e2127556f4f64592b11af22de27a7932  offer received   \n",
       "3  8ec6ce2a7e7949b1bf142def7d0e0586  offer received   \n",
       "4  68617ca6246f4fbc85e91a2a49552598  offer received   \n",
       "\n",
       "                                              value  time  \n",
       "0  {'offer id': '9b98b8c7a33c4b65b9aebfe6a799e6d9'}     0  \n",
       "1  {'offer id': '0b1e1539f2cc45b7b9fa7c272da2e1d7'}     0  \n",
       "2  {'offer id': '2906b810c7d4411798c6938adc9daaa5'}     0  \n",
       "3  {'offer id': 'fafdcd668e3743c1bb461111dcafc2a4'}     0  \n",
       "4  {'offer id': '4d5c57ea9a6940dd891ad53e9dbe8da0'}     0  "
      ]
     },
     "execution_count": 21,
     "metadata": {},
     "output_type": "execute_result"
    }
   ],
   "source": [
    "transcript.head()\n"
   ]
  },
  {
   "cell_type": "code",
   "execution_count": 22,
   "metadata": {},
   "outputs": [
    {
     "data": {
      "text/html": [
       "<div>\n",
       "<style scoped>\n",
       "    .dataframe tbody tr th:only-of-type {\n",
       "        vertical-align: middle;\n",
       "    }\n",
       "\n",
       "    .dataframe tbody tr th {\n",
       "        vertical-align: top;\n",
       "    }\n",
       "\n",
       "    .dataframe thead th {\n",
       "        text-align: right;\n",
       "    }\n",
       "</style>\n",
       "<table border=\"1\" class=\"dataframe\">\n",
       "  <thead>\n",
       "    <tr style=\"text-align: right;\">\n",
       "      <th></th>\n",
       "      <th>person</th>\n",
       "      <th>event</th>\n",
       "      <th>value</th>\n",
       "      <th>time</th>\n",
       "    </tr>\n",
       "  </thead>\n",
       "  <tbody>\n",
       "    <tr>\n",
       "      <th>62305</th>\n",
       "      <td>206ce5f33eb14623888263d2b945d089</td>\n",
       "      <td>offer received</td>\n",
       "      <td>{'offer id': 'ae264e3637204a6fb9bb56bc8210ddfd'}</td>\n",
       "      <td>168</td>\n",
       "    </tr>\n",
       "    <tr>\n",
       "      <th>224725</th>\n",
       "      <td>3b34370727654cfca5322bca2aba9ffd</td>\n",
       "      <td>transaction</td>\n",
       "      <td>{'amount': 17.92}</td>\n",
       "      <td>516</td>\n",
       "    </tr>\n",
       "    <tr>\n",
       "      <th>269254</th>\n",
       "      <td>923afabe892840a4a909b00a3114a290</td>\n",
       "      <td>transaction</td>\n",
       "      <td>{'amount': 0.68}</td>\n",
       "      <td>594</td>\n",
       "    </tr>\n",
       "    <tr>\n",
       "      <th>51739</th>\n",
       "      <td>53e8bb88915e405db140e25ae136bf1d</td>\n",
       "      <td>transaction</td>\n",
       "      <td>{'amount': 15.49}</td>\n",
       "      <td>156</td>\n",
       "    </tr>\n",
       "    <tr>\n",
       "      <th>149137</th>\n",
       "      <td>b7e216b6472b46648272c29a52a86702</td>\n",
       "      <td>offer viewed</td>\n",
       "      <td>{'offer id': 'fafdcd668e3743c1bb461111dcafc2a4'}</td>\n",
       "      <td>402</td>\n",
       "    </tr>\n",
       "    <tr>\n",
       "      <th>22831</th>\n",
       "      <td>e008262ad24e46af98a928342e303c3e</td>\n",
       "      <td>offer viewed</td>\n",
       "      <td>{'offer id': '2298d6c36e964ae4a3e7e9706d1fb8c2'}</td>\n",
       "      <td>24</td>\n",
       "    </tr>\n",
       "    <tr>\n",
       "      <th>29726</th>\n",
       "      <td>4300a41fca2143a38b46941de668f6d6</td>\n",
       "      <td>offer completed</td>\n",
       "      <td>{'offer_id': 'f19421c1d4aa40978ebb69ca19b0e20d...</td>\n",
       "      <td>48</td>\n",
       "    </tr>\n",
       "    <tr>\n",
       "      <th>76561</th>\n",
       "      <td>899ed0c4994f47c4b3dd71eb929870bc</td>\n",
       "      <td>offer viewed</td>\n",
       "      <td>{'offer id': '2298d6c36e964ae4a3e7e9706d1fb8c2'}</td>\n",
       "      <td>186</td>\n",
       "    </tr>\n",
       "    <tr>\n",
       "      <th>213068</th>\n",
       "      <td>bba1aa88ea0240b5a66390c0c910041d</td>\n",
       "      <td>offer received</td>\n",
       "      <td>{'offer id': 'fafdcd668e3743c1bb461111dcafc2a4'}</td>\n",
       "      <td>504</td>\n",
       "    </tr>\n",
       "    <tr>\n",
       "      <th>168504</th>\n",
       "      <td>471938c318674a30afea015be6396cbd</td>\n",
       "      <td>offer completed</td>\n",
       "      <td>{'offer_id': 'ae264e3637204a6fb9bb56bc8210ddfd...</td>\n",
       "      <td>414</td>\n",
       "    </tr>\n",
       "    <tr>\n",
       "      <th>72415</th>\n",
       "      <td>857fc6e18cf74f7b8ebce26bbfbd3028</td>\n",
       "      <td>offer completed</td>\n",
       "      <td>{'offer_id': 'f19421c1d4aa40978ebb69ca19b0e20d...</td>\n",
       "      <td>180</td>\n",
       "    </tr>\n",
       "    <tr>\n",
       "      <th>145806</th>\n",
       "      <td>71de1f697e3142b685847eabb040440e</td>\n",
       "      <td>transaction</td>\n",
       "      <td>{'amount': 25.41}</td>\n",
       "      <td>390</td>\n",
       "    </tr>\n",
       "    <tr>\n",
       "      <th>12679</th>\n",
       "      <td>629fc02d56414d91bca360decdfa9288</td>\n",
       "      <td>offer completed</td>\n",
       "      <td>{'offer_id': '9b98b8c7a33c4b65b9aebfe6a799e6d9...</td>\n",
       "      <td>0</td>\n",
       "    </tr>\n",
       "    <tr>\n",
       "      <th>124507</th>\n",
       "      <td>0222d267445f4f078bc325224e471766</td>\n",
       "      <td>transaction</td>\n",
       "      <td>{'amount': 1.62}</td>\n",
       "      <td>336</td>\n",
       "    </tr>\n",
       "    <tr>\n",
       "      <th>273577</th>\n",
       "      <td>1171d3d36718435a8a69c8c9e7a04867</td>\n",
       "      <td>transaction</td>\n",
       "      <td>{'amount': 23.42}</td>\n",
       "      <td>600</td>\n",
       "    </tr>\n",
       "    <tr>\n",
       "      <th>274079</th>\n",
       "      <td>5393e8c9ce154c8aa2fbd35d7863d87d</td>\n",
       "      <td>offer completed</td>\n",
       "      <td>{'offer_id': '2906b810c7d4411798c6938adc9daaa5...</td>\n",
       "      <td>600</td>\n",
       "    </tr>\n",
       "    <tr>\n",
       "      <th>158912</th>\n",
       "      <td>c3e36389d78348d18458eafd6f35bc1c</td>\n",
       "      <td>offer received</td>\n",
       "      <td>{'offer id': '4d5c57ea9a6940dd891ad53e9dbe8da0'}</td>\n",
       "      <td>408</td>\n",
       "    </tr>\n",
       "    <tr>\n",
       "      <th>51425</th>\n",
       "      <td>e5573f1e7be848098594716260e6160f</td>\n",
       "      <td>transaction</td>\n",
       "      <td>{'amount': 28.17}</td>\n",
       "      <td>156</td>\n",
       "    </tr>\n",
       "    <tr>\n",
       "      <th>92936</th>\n",
       "      <td>752ee2a844b24237b8742d27aa2db775</td>\n",
       "      <td>transaction</td>\n",
       "      <td>{'amount': 6.23}</td>\n",
       "      <td>240</td>\n",
       "    </tr>\n",
       "    <tr>\n",
       "      <th>189475</th>\n",
       "      <td>e3cc8e8eb799450e861d546321f90f54</td>\n",
       "      <td>transaction</td>\n",
       "      <td>{'amount': 23.91}</td>\n",
       "      <td>462</td>\n",
       "    </tr>\n",
       "  </tbody>\n",
       "</table>\n",
       "</div>"
      ],
      "text/plain": [
       "                                  person            event  \\\n",
       "62305   206ce5f33eb14623888263d2b945d089   offer received   \n",
       "224725  3b34370727654cfca5322bca2aba9ffd      transaction   \n",
       "269254  923afabe892840a4a909b00a3114a290      transaction   \n",
       "51739   53e8bb88915e405db140e25ae136bf1d      transaction   \n",
       "149137  b7e216b6472b46648272c29a52a86702     offer viewed   \n",
       "22831   e008262ad24e46af98a928342e303c3e     offer viewed   \n",
       "29726   4300a41fca2143a38b46941de668f6d6  offer completed   \n",
       "76561   899ed0c4994f47c4b3dd71eb929870bc     offer viewed   \n",
       "213068  bba1aa88ea0240b5a66390c0c910041d   offer received   \n",
       "168504  471938c318674a30afea015be6396cbd  offer completed   \n",
       "72415   857fc6e18cf74f7b8ebce26bbfbd3028  offer completed   \n",
       "145806  71de1f697e3142b685847eabb040440e      transaction   \n",
       "12679   629fc02d56414d91bca360decdfa9288  offer completed   \n",
       "124507  0222d267445f4f078bc325224e471766      transaction   \n",
       "273577  1171d3d36718435a8a69c8c9e7a04867      transaction   \n",
       "274079  5393e8c9ce154c8aa2fbd35d7863d87d  offer completed   \n",
       "158912  c3e36389d78348d18458eafd6f35bc1c   offer received   \n",
       "51425   e5573f1e7be848098594716260e6160f      transaction   \n",
       "92936   752ee2a844b24237b8742d27aa2db775      transaction   \n",
       "189475  e3cc8e8eb799450e861d546321f90f54      transaction   \n",
       "\n",
       "                                                    value  time  \n",
       "62305    {'offer id': 'ae264e3637204a6fb9bb56bc8210ddfd'}   168  \n",
       "224725                                  {'amount': 17.92}   516  \n",
       "269254                                   {'amount': 0.68}   594  \n",
       "51739                                   {'amount': 15.49}   156  \n",
       "149137   {'offer id': 'fafdcd668e3743c1bb461111dcafc2a4'}   402  \n",
       "22831    {'offer id': '2298d6c36e964ae4a3e7e9706d1fb8c2'}    24  \n",
       "29726   {'offer_id': 'f19421c1d4aa40978ebb69ca19b0e20d...    48  \n",
       "76561    {'offer id': '2298d6c36e964ae4a3e7e9706d1fb8c2'}   186  \n",
       "213068   {'offer id': 'fafdcd668e3743c1bb461111dcafc2a4'}   504  \n",
       "168504  {'offer_id': 'ae264e3637204a6fb9bb56bc8210ddfd...   414  \n",
       "72415   {'offer_id': 'f19421c1d4aa40978ebb69ca19b0e20d...   180  \n",
       "145806                                  {'amount': 25.41}   390  \n",
       "12679   {'offer_id': '9b98b8c7a33c4b65b9aebfe6a799e6d9...     0  \n",
       "124507                                   {'amount': 1.62}   336  \n",
       "273577                                  {'amount': 23.42}   600  \n",
       "274079  {'offer_id': '2906b810c7d4411798c6938adc9daaa5...   600  \n",
       "158912   {'offer id': '4d5c57ea9a6940dd891ad53e9dbe8da0'}   408  \n",
       "51425                                   {'amount': 28.17}   156  \n",
       "92936                                    {'amount': 6.23}   240  \n",
       "189475                                  {'amount': 23.91}   462  "
      ]
     },
     "execution_count": 22,
     "metadata": {},
     "output_type": "execute_result"
    }
   ],
   "source": [
    "transcript.sample(20)"
   ]
  },
  {
   "cell_type": "code",
   "execution_count": 23,
   "metadata": {},
   "outputs": [
    {
     "name": "stdout",
     "output_type": "stream",
     "text": [
      "<class 'pandas.core.frame.DataFrame'>\n",
      "RangeIndex: 306534 entries, 0 to 306533\n",
      "Data columns (total 4 columns):\n",
      " #   Column  Non-Null Count   Dtype \n",
      "---  ------  --------------   ----- \n",
      " 0   person  306534 non-null  object\n",
      " 1   event   306534 non-null  object\n",
      " 2   value   306534 non-null  object\n",
      " 3   time    306534 non-null  int64 \n",
      "dtypes: int64(1), object(3)\n",
      "memory usage: 9.4+ MB\n"
     ]
    }
   ],
   "source": [
    "transcript.info()"
   ]
  },
  {
   "cell_type": "markdown",
   "metadata": {},
   "source": [
    "### 缺失"
   ]
  },
  {
   "cell_type": "code",
   "execution_count": 25,
   "metadata": {},
   "outputs": [
    {
     "data": {
      "text/plain": [
       "person    0\n",
       "event     0\n",
       "value     0\n",
       "time      0\n",
       "dtype: int64"
      ]
     },
     "execution_count": 25,
     "metadata": {},
     "output_type": "execute_result"
    }
   ],
   "source": [
    "transcript.isnull().sum()  # no null\n"
   ]
  },
  {
   "cell_type": "markdown",
   "metadata": {},
   "source": [
    "###  event 和 value"
   ]
  },
  {
   "cell_type": "code",
   "execution_count": 26,
   "metadata": {},
   "outputs": [
    {
     "data": {
      "text/plain": [
       "transaction        138953\n",
       "offer received      76277\n",
       "offer viewed        57725\n",
       "offer completed     33579\n",
       "Name: event, dtype: int64"
      ]
     },
     "execution_count": 26,
     "metadata": {},
     "output_type": "execute_result"
    }
   ],
   "source": [
    "transcript.event.value_counts()\n"
   ]
  },
  {
   "cell_type": "code",
   "execution_count": 28,
   "metadata": {},
   "outputs": [
    {
     "data": {
      "text/plain": [
       "45857                                       {'amount': 5.5}\n",
       "79152      {'offer id': 'f19421c1d4aa40978ebb69ca19b0e20d'}\n",
       "139404                                     {'amount': 2.35}\n",
       "169603     {'offer id': '2298d6c36e964ae4a3e7e9706d1fb8c2'}\n",
       "232562                                    {'amount': 26.27}\n",
       "230088                                     {'amount': 6.88}\n",
       "283297     {'offer id': '2298d6c36e964ae4a3e7e9706d1fb8c2'}\n",
       "206571     {'offer id': 'ae264e3637204a6fb9bb56bc8210ddfd'}\n",
       "231843                                     {'amount': 3.17}\n",
       "242742                                     {'amount': 4.77}\n",
       "140548    {'offer_id': '9b98b8c7a33c4b65b9aebfe6a799e6d9...\n",
       "83927      {'offer id': '2906b810c7d4411798c6938adc9daaa5'}\n",
       "35596                                     {'amount': 34.34}\n",
       "230081                                      {'amount': 7.2}\n",
       "47859                                      {'amount': 1.35}\n",
       "59310      {'offer id': '3f207df678b143eea3cee63160fa8bed'}\n",
       "121756     {'offer id': '0b1e1539f2cc45b7b9fa7c272da2e1d7'}\n",
       "193639                                    {'amount': 16.39}\n",
       "111115     {'offer id': '4d5c57ea9a6940dd891ad53e9dbe8da0'}\n",
       "22345      {'offer id': '4d5c57ea9a6940dd891ad53e9dbe8da0'}\n",
       "Name: value, dtype: object"
      ]
     },
     "execution_count": 28,
     "metadata": {},
     "output_type": "execute_result"
    }
   ],
   "source": [
    "transcript.value.sample(20)\n"
   ]
  },
  {
   "cell_type": "markdown",
   "metadata": {},
   "source": [
    "- value 列有两种情况 'offer id' 或者'offer_id' 字典，值为offerid，'amount'字典，值为交易量，因此这一列需要拆成2列，分别用'offer_id'和'amount'作为列名，值为对应的字典值，注意需要把'offer id'变为'offer_id'\n",
    "\n",
    "- event 列有4种活动，其中 offer received, offer viewed and offer completed 都是和 offer 有关 对应了value列的'offer id'，transaction 对应了value列的'amount'\n",
    "\n",
    "    \n",
    "- value column has two types, one is dict of 'offer id' and 'offer_id'!!!!!!!!!!! the other is dict of 'amount'\n",
    "- event column has two types, one is offer received, viewed and completed, the other is transaction\n",
    "- event transaction corresponds to value amount, and other event offer actions corresponds to value offer_id.\n",
    "- dict of 'offer id'and 'offer_id' can get a new column named 'offer id' in the row of offer event\n",
    "- dict of 'amount' can get a new column named 'amount' in the row of transaction"
   ]
  },
  {
   "cell_type": "code",
   "execution_count": 29,
   "metadata": {},
   "outputs": [
    {
     "data": {
      "text/plain": [
       "(17000,)"
      ]
     },
     "execution_count": 29,
     "metadata": {},
     "output_type": "execute_result"
    }
   ],
   "source": [
    "transcript.person.unique().shape\n"
   ]
  },
  {
   "cell_type": "markdown",
   "metadata": {},
   "source": [
    "### 增加两列 offer_id  and  amount "
   ]
  },
  {
   "cell_type": "code",
   "execution_count": 36,
   "metadata": {},
   "outputs": [],
   "source": [
    "\n",
    "def encode_offer_id(x):\n",
    "    try :\n",
    "        return x['offer id']\n",
    "    except:\n",
    "        return x['offer_id']\n",
    "\n",
    "def transcript_prep(df):\n",
    "    # df = transcript\n",
    "    trans_df = df.copy()\n",
    "    trans_df['offer_id'] = trans_df[~trans_df.event.isin(['transaction'])].value.apply(encode_offer_id)   # why can't lambda?\n",
    "    trans_df['amount'] =  trans_df[trans_df.event.isin(['transaction'])].value.apply(lambda x: x['amount'])\n",
    "    trans_df = trans_df.drop( 'value' , axis=1 )\n",
    "    return trans_df"
   ]
  },
  {
   "cell_type": "code",
   "execution_count": 38,
   "metadata": {},
   "outputs": [
    {
     "data": {
      "text/html": [
       "<div>\n",
       "<style scoped>\n",
       "    .dataframe tbody tr th:only-of-type {\n",
       "        vertical-align: middle;\n",
       "    }\n",
       "\n",
       "    .dataframe tbody tr th {\n",
       "        vertical-align: top;\n",
       "    }\n",
       "\n",
       "    .dataframe thead th {\n",
       "        text-align: right;\n",
       "    }\n",
       "</style>\n",
       "<table border=\"1\" class=\"dataframe\">\n",
       "  <thead>\n",
       "    <tr style=\"text-align: right;\">\n",
       "      <th></th>\n",
       "      <th>person</th>\n",
       "      <th>event</th>\n",
       "      <th>time</th>\n",
       "      <th>offer_id</th>\n",
       "      <th>amount</th>\n",
       "    </tr>\n",
       "  </thead>\n",
       "  <tbody>\n",
       "    <tr>\n",
       "      <th>177141</th>\n",
       "      <td>46932b6613b7405a975d4b4ef1ef9669</td>\n",
       "      <td>offer viewed</td>\n",
       "      <td>426</td>\n",
       "      <td>f19421c1d4aa40978ebb69ca19b0e20d</td>\n",
       "      <td>NaN</td>\n",
       "    </tr>\n",
       "    <tr>\n",
       "      <th>56965</th>\n",
       "      <td>50a2b91918ba45b6bcd2556f70c75aa0</td>\n",
       "      <td>offer received</td>\n",
       "      <td>168</td>\n",
       "      <td>fafdcd668e3743c1bb461111dcafc2a4</td>\n",
       "      <td>NaN</td>\n",
       "    </tr>\n",
       "    <tr>\n",
       "      <th>11916</th>\n",
       "      <td>fada060561c24d4a984cc6eba6e2a63a</td>\n",
       "      <td>offer received</td>\n",
       "      <td>0</td>\n",
       "      <td>0b1e1539f2cc45b7b9fa7c272da2e1d7</td>\n",
       "      <td>NaN</td>\n",
       "    </tr>\n",
       "    <tr>\n",
       "      <th>207500</th>\n",
       "      <td>8cc382605ece4420a536e2123e05444b</td>\n",
       "      <td>offer received</td>\n",
       "      <td>504</td>\n",
       "      <td>2298d6c36e964ae4a3e7e9706d1fb8c2</td>\n",
       "      <td>NaN</td>\n",
       "    </tr>\n",
       "    <tr>\n",
       "      <th>129940</th>\n",
       "      <td>18eb8fa6fd8a4416a62569f5e16709e5</td>\n",
       "      <td>transaction</td>\n",
       "      <td>342</td>\n",
       "      <td>NaN</td>\n",
       "      <td>16.57</td>\n",
       "    </tr>\n",
       "    <tr>\n",
       "      <th>249046</th>\n",
       "      <td>404bff404fbc4024bfd1da1134594b3f</td>\n",
       "      <td>offer received</td>\n",
       "      <td>576</td>\n",
       "      <td>fafdcd668e3743c1bb461111dcafc2a4</td>\n",
       "      <td>NaN</td>\n",
       "    </tr>\n",
       "    <tr>\n",
       "      <th>11058</th>\n",
       "      <td>fbded35ba79e4b898f5fc7faee6ff44f</td>\n",
       "      <td>offer received</td>\n",
       "      <td>0</td>\n",
       "      <td>2298d6c36e964ae4a3e7e9706d1fb8c2</td>\n",
       "      <td>NaN</td>\n",
       "    </tr>\n",
       "    <tr>\n",
       "      <th>135169</th>\n",
       "      <td>da7aced8db154427a94a9008200267e4</td>\n",
       "      <td>transaction</td>\n",
       "      <td>354</td>\n",
       "      <td>NaN</td>\n",
       "      <td>0.67</td>\n",
       "    </tr>\n",
       "    <tr>\n",
       "      <th>131032</th>\n",
       "      <td>6fae0fe809b34a45bd87deb5e317adec</td>\n",
       "      <td>transaction</td>\n",
       "      <td>348</td>\n",
       "      <td>NaN</td>\n",
       "      <td>24.47</td>\n",
       "    </tr>\n",
       "    <tr>\n",
       "      <th>87713</th>\n",
       "      <td>beb7f9bb1096496fa4a369be8d0c6137</td>\n",
       "      <td>offer viewed</td>\n",
       "      <td>222</td>\n",
       "      <td>fafdcd668e3743c1bb461111dcafc2a4</td>\n",
       "      <td>NaN</td>\n",
       "    </tr>\n",
       "  </tbody>\n",
       "</table>\n",
       "</div>"
      ],
      "text/plain": [
       "                                  person           event  time  \\\n",
       "177141  46932b6613b7405a975d4b4ef1ef9669    offer viewed   426   \n",
       "56965   50a2b91918ba45b6bcd2556f70c75aa0  offer received   168   \n",
       "11916   fada060561c24d4a984cc6eba6e2a63a  offer received     0   \n",
       "207500  8cc382605ece4420a536e2123e05444b  offer received   504   \n",
       "129940  18eb8fa6fd8a4416a62569f5e16709e5     transaction   342   \n",
       "249046  404bff404fbc4024bfd1da1134594b3f  offer received   576   \n",
       "11058   fbded35ba79e4b898f5fc7faee6ff44f  offer received     0   \n",
       "135169  da7aced8db154427a94a9008200267e4     transaction   354   \n",
       "131032  6fae0fe809b34a45bd87deb5e317adec     transaction   348   \n",
       "87713   beb7f9bb1096496fa4a369be8d0c6137    offer viewed   222   \n",
       "\n",
       "                                offer_id  amount  \n",
       "177141  f19421c1d4aa40978ebb69ca19b0e20d     NaN  \n",
       "56965   fafdcd668e3743c1bb461111dcafc2a4     NaN  \n",
       "11916   0b1e1539f2cc45b7b9fa7c272da2e1d7     NaN  \n",
       "207500  2298d6c36e964ae4a3e7e9706d1fb8c2     NaN  \n",
       "129940                               NaN   16.57  \n",
       "249046  fafdcd668e3743c1bb461111dcafc2a4     NaN  \n",
       "11058   2298d6c36e964ae4a3e7e9706d1fb8c2     NaN  \n",
       "135169                               NaN    0.67  \n",
       "131032                               NaN   24.47  \n",
       "87713   fafdcd668e3743c1bb461111dcafc2a4     NaN  "
      ]
     },
     "execution_count": 38,
     "metadata": {},
     "output_type": "execute_result"
    }
   ],
   "source": [
    "transcript_try = transcript_prep(transcript)\n",
    "transcript_try.sample(10)"
   ]
  },
  {
   "cell_type": "markdown",
   "metadata": {},
   "source": [
    "## 三个合并  profile， portfolio， transcript  \n"
   ]
  },
  {
   "cell_type": "code",
   "execution_count": 31,
   "metadata": {},
   "outputs": [
    {
     "name": "stdout",
     "output_type": "stream",
     "text": [
      "Index(['reward', 'difficulty', 'duration', 'offer_type', 'id', 'web', 'email',\n",
      "       'mobile', 'social', 'offername'],\n",
      "      dtype='object')\n",
      "Index(['gender', 'age', 'id', 'became_member_on', 'income'], dtype='object')\n",
      "Index(['person', 'event', 'value', 'time'], dtype='object')\n"
     ]
    }
   ],
   "source": [
    "print( portfolio_clean.columns) \n",
    "print( profile_clean.columns )\n",
    "print( transcript.columns )\n"
   ]
  },
  {
   "cell_type": "code",
   "execution_count": 39,
   "metadata": {},
   "outputs": [],
   "source": [
    "def merge_transcript_profile_portfolio(transcript_df, profile_df, portfolio_df):\n",
    "    # transcript_df= transcript ; profile_df = profile; portfolio_df = portfolio\n",
    "    portfolio_clean = portfolio_prep( portfolio_df ) \n",
    "    profile_clean = profile_prep_dates(profile_df)\n",
    "    transcript_clean = transcript_prep(transcript_df)\n",
    "    \n",
    "    dfmerge_tr_pr = pd.merge(transcript_clean, profile_clean, left_on=['person'], right_on = ['id'], how ='left')\n",
    "    dfmerge_tr_pr = dfmerge_tr_pr.drop(['id'], axis=1)\n",
    "    \n",
    "    dfmerge_trpr_po =  pd.merge(dfmerge_tr_pr, portfolio_clean, left_on = 'offer_id', right_on ='id', how='left')\n",
    "    dfmerge_trpr_po = dfmerge_trpr_po.drop(['id'], axis=1)\n",
    "    return dfmerge_trpr_po\n"
   ]
  },
  {
   "cell_type": "code",
   "execution_count": 73,
   "metadata": {},
   "outputs": [],
   "source": [
    "dfmerge_trprpo = merge_transcript_profile_portfolio(transcript, profile, portfolio)"
   ]
  },
  {
   "cell_type": "code",
   "execution_count": 74,
   "metadata": {},
   "outputs": [
    {
     "data": {
      "text/html": [
       "<div>\n",
       "<style scoped>\n",
       "    .dataframe tbody tr th:only-of-type {\n",
       "        vertical-align: middle;\n",
       "    }\n",
       "\n",
       "    .dataframe tbody tr th {\n",
       "        vertical-align: top;\n",
       "    }\n",
       "\n",
       "    .dataframe thead th {\n",
       "        text-align: right;\n",
       "    }\n",
       "</style>\n",
       "<table border=\"1\" class=\"dataframe\">\n",
       "  <thead>\n",
       "    <tr style=\"text-align: right;\">\n",
       "      <th></th>\n",
       "      <th>person</th>\n",
       "      <th>event</th>\n",
       "      <th>time</th>\n",
       "      <th>offer_id</th>\n",
       "      <th>amount</th>\n",
       "      <th>gender</th>\n",
       "      <th>age</th>\n",
       "      <th>became_member_on</th>\n",
       "      <th>income</th>\n",
       "      <th>reward</th>\n",
       "      <th>difficulty</th>\n",
       "      <th>duration</th>\n",
       "      <th>offer_type</th>\n",
       "      <th>web</th>\n",
       "      <th>email</th>\n",
       "      <th>mobile</th>\n",
       "      <th>social</th>\n",
       "      <th>offername</th>\n",
       "    </tr>\n",
       "  </thead>\n",
       "  <tbody>\n",
       "    <tr>\n",
       "      <th>0</th>\n",
       "      <td>78afa995795e4d85b5d9ceeca43f5fef</td>\n",
       "      <td>offer received</td>\n",
       "      <td>0</td>\n",
       "      <td>9b98b8c7a33c4b65b9aebfe6a799e6d9</td>\n",
       "      <td>NaN</td>\n",
       "      <td>F</td>\n",
       "      <td>75</td>\n",
       "      <td>2017-05-09</td>\n",
       "      <td>100000.0</td>\n",
       "      <td>5.0</td>\n",
       "      <td>5.0</td>\n",
       "      <td>7.0</td>\n",
       "      <td>bogo</td>\n",
       "      <td>1.0</td>\n",
       "      <td>1.0</td>\n",
       "      <td>1.0</td>\n",
       "      <td>0.0</td>\n",
       "      <td>bogo_5_7_5</td>\n",
       "    </tr>\n",
       "    <tr>\n",
       "      <th>1</th>\n",
       "      <td>a03223e636434f42ac4c3df47e8bac43</td>\n",
       "      <td>offer received</td>\n",
       "      <td>0</td>\n",
       "      <td>0b1e1539f2cc45b7b9fa7c272da2e1d7</td>\n",
       "      <td>NaN</td>\n",
       "      <td>None</td>\n",
       "      <td>118</td>\n",
       "      <td>2017-08-04</td>\n",
       "      <td>NaN</td>\n",
       "      <td>5.0</td>\n",
       "      <td>20.0</td>\n",
       "      <td>10.0</td>\n",
       "      <td>discount</td>\n",
       "      <td>1.0</td>\n",
       "      <td>1.0</td>\n",
       "      <td>0.0</td>\n",
       "      <td>0.0</td>\n",
       "      <td>discount_20_10_5</td>\n",
       "    </tr>\n",
       "    <tr>\n",
       "      <th>2</th>\n",
       "      <td>e2127556f4f64592b11af22de27a7932</td>\n",
       "      <td>offer received</td>\n",
       "      <td>0</td>\n",
       "      <td>2906b810c7d4411798c6938adc9daaa5</td>\n",
       "      <td>NaN</td>\n",
       "      <td>M</td>\n",
       "      <td>68</td>\n",
       "      <td>2018-04-26</td>\n",
       "      <td>70000.0</td>\n",
       "      <td>2.0</td>\n",
       "      <td>10.0</td>\n",
       "      <td>7.0</td>\n",
       "      <td>discount</td>\n",
       "      <td>1.0</td>\n",
       "      <td>1.0</td>\n",
       "      <td>1.0</td>\n",
       "      <td>0.0</td>\n",
       "      <td>discount_10_7_2</td>\n",
       "    </tr>\n",
       "    <tr>\n",
       "      <th>3</th>\n",
       "      <td>8ec6ce2a7e7949b1bf142def7d0e0586</td>\n",
       "      <td>offer received</td>\n",
       "      <td>0</td>\n",
       "      <td>fafdcd668e3743c1bb461111dcafc2a4</td>\n",
       "      <td>NaN</td>\n",
       "      <td>None</td>\n",
       "      <td>118</td>\n",
       "      <td>2017-09-25</td>\n",
       "      <td>NaN</td>\n",
       "      <td>2.0</td>\n",
       "      <td>10.0</td>\n",
       "      <td>10.0</td>\n",
       "      <td>discount</td>\n",
       "      <td>1.0</td>\n",
       "      <td>1.0</td>\n",
       "      <td>1.0</td>\n",
       "      <td>1.0</td>\n",
       "      <td>discount_10_10_2</td>\n",
       "    </tr>\n",
       "    <tr>\n",
       "      <th>4</th>\n",
       "      <td>68617ca6246f4fbc85e91a2a49552598</td>\n",
       "      <td>offer received</td>\n",
       "      <td>0</td>\n",
       "      <td>4d5c57ea9a6940dd891ad53e9dbe8da0</td>\n",
       "      <td>NaN</td>\n",
       "      <td>None</td>\n",
       "      <td>118</td>\n",
       "      <td>2017-10-02</td>\n",
       "      <td>NaN</td>\n",
       "      <td>10.0</td>\n",
       "      <td>10.0</td>\n",
       "      <td>5.0</td>\n",
       "      <td>bogo</td>\n",
       "      <td>1.0</td>\n",
       "      <td>1.0</td>\n",
       "      <td>1.0</td>\n",
       "      <td>1.0</td>\n",
       "      <td>bogo_10_5_10</td>\n",
       "    </tr>\n",
       "  </tbody>\n",
       "</table>\n",
       "</div>"
      ],
      "text/plain": [
       "                             person           event  time  \\\n",
       "0  78afa995795e4d85b5d9ceeca43f5fef  offer received     0   \n",
       "1  a03223e636434f42ac4c3df47e8bac43  offer received     0   \n",
       "2  e2127556f4f64592b11af22de27a7932  offer received     0   \n",
       "3  8ec6ce2a7e7949b1bf142def7d0e0586  offer received     0   \n",
       "4  68617ca6246f4fbc85e91a2a49552598  offer received     0   \n",
       "\n",
       "                           offer_id  amount gender  age became_member_on  \\\n",
       "0  9b98b8c7a33c4b65b9aebfe6a799e6d9     NaN      F   75       2017-05-09   \n",
       "1  0b1e1539f2cc45b7b9fa7c272da2e1d7     NaN   None  118       2017-08-04   \n",
       "2  2906b810c7d4411798c6938adc9daaa5     NaN      M   68       2018-04-26   \n",
       "3  fafdcd668e3743c1bb461111dcafc2a4     NaN   None  118       2017-09-25   \n",
       "4  4d5c57ea9a6940dd891ad53e9dbe8da0     NaN   None  118       2017-10-02   \n",
       "\n",
       "     income  reward  difficulty  duration offer_type  web  email  mobile  \\\n",
       "0  100000.0     5.0         5.0       7.0       bogo  1.0    1.0     1.0   \n",
       "1       NaN     5.0        20.0      10.0   discount  1.0    1.0     0.0   \n",
       "2   70000.0     2.0        10.0       7.0   discount  1.0    1.0     1.0   \n",
       "3       NaN     2.0        10.0      10.0   discount  1.0    1.0     1.0   \n",
       "4       NaN    10.0        10.0       5.0       bogo  1.0    1.0     1.0   \n",
       "\n",
       "   social         offername  \n",
       "0     0.0        bogo_5_7_5  \n",
       "1     0.0  discount_20_10_5  \n",
       "2     0.0   discount_10_7_2  \n",
       "3     1.0  discount_10_10_2  \n",
       "4     1.0      bogo_10_5_10  "
      ]
     },
     "execution_count": 74,
     "metadata": {},
     "output_type": "execute_result"
    }
   ],
   "source": [
    "dfmerge_trprpo.head()"
   ]
  },
  {
   "cell_type": "markdown",
   "metadata": {},
   "source": [
    "### 缺失"
   ]
  },
  {
   "cell_type": "code",
   "execution_count": 75,
   "metadata": {},
   "outputs": [
    {
     "data": {
      "text/plain": [
       "person                   0\n",
       "event                    0\n",
       "time                     0\n",
       "offer_id            138953\n",
       "amount              167581\n",
       "gender               33772\n",
       "age                      0\n",
       "became_member_on         0\n",
       "income               33772\n",
       "reward              138953\n",
       "difficulty          138953\n",
       "duration            138953\n",
       "offer_type          138953\n",
       "web                 138953\n",
       "email               138953\n",
       "mobile              138953\n",
       "social              138953\n",
       "offername           138953\n",
       "dtype: int64"
      ]
     },
     "execution_count": 75,
     "metadata": {},
     "output_type": "execute_result"
    }
   ],
   "source": [
    "dfmerge_trprpo.isnull().sum()"
   ]
  },
  {
   "cell_type": "markdown",
   "metadata": {},
   "source": [
    "## 数据探索"
   ]
  },
  {
   "cell_type": "markdown",
   "metadata": {},
   "source": [
    "### amount 平均，总数 ， 次数"
   ]
  },
  {
   "cell_type": "code",
   "execution_count": 76,
   "metadata": {},
   "outputs": [
    {
     "data": {
      "text/plain": [
       "count    16578.000000\n",
       "mean        13.680266\n",
       "std         16.056763\n",
       "min          0.050000\n",
       "25%          3.181392\n",
       "50%         11.996607\n",
       "75%         20.469643\n",
       "max        451.470000\n",
       "Name: amount, dtype: float64"
      ]
     },
     "execution_count": 76,
     "metadata": {},
     "output_type": "execute_result"
    },
    {
     "data": {
      "image/png": "[encoded data removed]",
      "text/plain": [
       "<Figure size 432x288 with 1 Axes>"
      ]
     },
     "metadata": {
      "needs_background": "light"
     },
     "output_type": "display_data"
    }
   ],
   "source": [
    "# 所有用户用户的 交易情况 amount 平均值分布\n",
    "dfmerge_trprpo.groupby('person')['amount'].mean().hist(bins=50)\n",
    "plt.xlabel('$ Spending')\n",
    "plt.ylabel('Count')\n",
    "plt.title('Average Spending per customer')\n",
    "dfmerge_trprpo.groupby('person')['amount'].mean().describe()"
   ]
  },
  {
   "cell_type": "code",
   "execution_count": 77,
   "metadata": {},
   "outputs": [
    {
     "data": {
      "text/plain": [
       "count    17000.000000\n",
       "mean       104.438351\n",
       "std        125.922619\n",
       "min          0.000000\n",
       "25%         21.820000\n",
       "50%         69.405000\n",
       "75%        148.782500\n",
       "max       1608.690000\n",
       "Name: amount, dtype: float64"
      ]
     },
     "execution_count": 77,
     "metadata": {},
     "output_type": "execute_result"
    },
    {
     "data": {
      "image/png": "[encoded data removed]",
      "text/plain": [
       "<Figure size 432x288 with 1 Axes>"
      ]
     },
     "metadata": {
      "needs_background": "light"
     },
     "output_type": "display_data"
    }
   ],
   "source": [
    "# 所有用户的 交易情况 amount 总和分布\n",
    "\n",
    "dfmerge_trprpo.groupby('person')['amount'].sum().hist(bins=50)\n",
    "plt.xlabel('$ Spending')\n",
    "plt.ylabel('Count')\n",
    "plt.title('TOTAL Spending per customer')\n",
    "dfmerge_trprpo.groupby('person')['amount'].sum().describe()\n",
    "\n"
   ]
  },
  {
   "cell_type": "code",
   "execution_count": 78,
   "metadata": {},
   "outputs": [
    {
     "data": {
      "text/plain": [
       "count    17000.000000\n",
       "mean         8.173706\n",
       "std          5.116250\n",
       "min          0.000000\n",
       "25%          4.000000\n",
       "50%          7.000000\n",
       "75%         11.000000\n",
       "max         36.000000\n",
       "Name: amount, dtype: float64"
      ]
     },
     "execution_count": 78,
     "metadata": {},
     "output_type": "execute_result"
    },
    {
     "data": {
      "image/png": "[encoded data removed]",
      "text/plain": [
       "<Figure size 432x288 with 1 Axes>"
      ]
     },
     "metadata": {
      "needs_background": "light"
     },
     "output_type": "display_data"
    }
   ],
   "source": [
    "# 所有用户的 交易情况 amount  count 分布\n",
    "\n",
    "dfmerge_trprpo.groupby('person')['amount'].count().hist()\n",
    "plt.xlabel('Number of transaction')\n",
    "plt.ylabel('Count')\n",
    "plt.title('The distribution of Number of transaction per customer')\n",
    "dfmerge_trprpo.groupby(['person'])['amount'].count().describe()\n"
   ]
  },
  {
   "cell_type": "markdown",
   "metadata": {},
   "source": [
    "- 用户单次交易的平均值是16元，大部分都在20元以下\n",
    "- 用户交易量的平均值是125元，大部分都在150元以下\n",
    "- 用户交易次数的平均值是8次，大部分都在11次以下\n",
    "    \n",
    "\n",
    "- The average value of a user's single transaction is 16 yuan, most of which are below 20 yuan\n",
    "- The average value of a user's total transaction is 125 yuan, most of which are below 150 yuan\n",
    "- The average value of a user's transactions count is 8, and most of them are below 11\n"
   ]
  },
  {
   "cell_type": "markdown",
   "metadata": {},
   "source": [
    "### amount vs gender"
   ]
  },
  {
   "cell_type": "code",
   "execution_count": 79,
   "metadata": {},
   "outputs": [],
   "source": [
    "# assign missing value in gender with 'U' value\n",
    "dfmerge_temp = dfmerge_trprpo.copy()\n",
    "dfmerge_temp.loc[dfmerge_temp.gender.isnull(), 'gender'] ='U'"
   ]
  },
  {
   "cell_type": "code",
   "execution_count": 82,
   "metadata": {},
   "outputs": [
    {
     "data": {
      "image/png": "[encoded data removed]",
      "text/plain": [
       "<Figure size 1152x288 with 4 Axes>"
      ]
     },
     "metadata": {
      "needs_background": "light"
     },
     "output_type": "display_data"
    }
   ],
   "source": [
    "# 分析  不同性别-用户的 交易情况 amount 平均值 分布， 以及 不同性别-用户的  amount 计数，  不同性别-用户的  income box图\n",
    "\n",
    "\"\"\" The number of transaction by GENDER \"\"\"\n",
    "\n",
    "#plot avg spending\n",
    "f, (ax1, ax2, ax3 , ax4) = plt.subplots(1,4, figsize=(16,4))\n",
    "dfmerge_temp.groupby('gender')['amount'].mean()[['M', 'F', 'O', 'U']].plot(kind='bar', ax=ax1);\n",
    "ax1.set_xticklabels(ax1.get_xticklabels(), rotation=0)\n",
    "ax1.set_ylabel(\"The average spending of transaction\")\n",
    "ax1.set_title('The avg spending of transaction')\n",
    "\n",
    "# plot avg number of transaction\n",
    "\n",
    "dfmerge_temp.groupby(['gender', 'amount'])['amount'].count().mean(level=0)[['M', 'F', 'O', 'U']].plot(kind='bar', ax=ax2);\n",
    "ax2.set_xticklabels(ax1.get_xticklabels(), rotation=0);\n",
    "ax2.set_ylabel(\"The average number of transaction\");\n",
    "ax2.set_title(\"The avg number of transaction\");\n",
    "\n",
    "# boxplot income distribution\n",
    "dfmerge_temp.groupby('gender')['amount'].sum().plot(kind='bar', ax=ax3);\n",
    "ax3.set_xticklabels(ax1.get_xticklabels(), rotation=0);\n",
    "ax3.set_ylabel(\"The total spending of transaction\");\n",
    "ax3.set_title(\"The total spending of transaction\");\n",
    "\n",
    "#plot gender distribution\n",
    "profile.fillna('U').gender.value_counts()[['M', 'F', 'O', 'U']].plot(kind='bar', ax=ax4)\n",
    "ax4.set_xticklabels(ax4.get_xticklabels(), rotation=0)\n",
    "plt.title('Gender Distribution');\n",
    "ax4.set_xlabel('gender')\n",
    "\n",
    "plt.tight_layout()"
   ]
  },
  {
   "cell_type": "markdown",
   "metadata": {},
   "source": [
    "- 女性的平均交易量最多, 其次是其他性别和男性\n",
    "- 男性的交易次数最多, 其次是其他性别和女性\n",
    "- 男性女性的总交易量比较接近,可能是因为男性虽然单次交易量少,但是人数多.其他性别和unknown的总交易量都很少\n",
    "    \n",
    "    \n",
    "- Women have the most average spending, followed by other genders and men\n",
    "- Men have the most average transaction count, followed by other genders and women\n",
    "- The total spending of males and females is relatively close, which may be due to the fact that although the males' single transaction spending is small, the number of males is large.The total spending of other genders and unknown is very small"
   ]
  },
  {
   "cell_type": "markdown",
   "metadata": {},
   "source": [
    "### offer event count"
   ]
  },
  {
   "cell_type": "code",
   "execution_count": 83,
   "metadata": {},
   "outputs": [
    {
     "data": {
      "text/plain": [
       "Text(0.5, 1.0, 'Portfolio Distribution by Event')"
      ]
     },
     "execution_count": 83,
     "metadata": {},
     "output_type": "execute_result"
    },
    {
     "data": {
      "image/png": "[encoded data removed]",
      "text/plain": [
       "<Figure size 432x432 with 1 Axes>"
      ]
     },
     "metadata": {
      "needs_background": "light"
     },
     "output_type": "display_data"
    }
   ],
   "source": [
    "# 分析 查看不同offer 的 receive view 和 complete 数量，水平图\n",
    "\n",
    "\"\"\"\n",
    "Portfolio Distribution by event\n",
    "\"\"\"\n",
    "df_temp = dfmerge_trprpo[~dfmerge_trprpo.event.isin(['transaction'])]\n",
    "plt.figure(figsize=(6,6))\n",
    "sns.countplot(y='offername', hue='event', data= df_temp);\n",
    "plt.legend(loc='center left', bbox_to_anchor=(1, 0.5))\n",
    "plt.xticks(rotation=90)\n",
    "plt.ylabel(\"Portfolio Name\")\n",
    "plt.title(\"Portfolio Distribution by Event\")\n",
    "\n",
    "# 发现 complete 竟然比 view还多 说明有的人 complete 和推荐无关 属于无效记录\n"
   ]
  },
  {
   "cell_type": "markdown",
   "metadata": {},
   "source": [
    "-  对于bogo_5_7_5和discount_20_10_5这两种推送，complete 竟然比 view还多 说明有的人 complete 和推送无关, 属于无效记录\n",
    "    \n",
    "    \n",
    "- For push offers bogo_5_7_5 and discount_20_10_5, complete count is even more than view count, indicating that some complete event has nothing to do with push offers,these are invalid records\n"
   ]
  },
  {
   "cell_type": "code",
   "execution_count": 87,
   "metadata": {},
   "outputs": [
    {
     "data": {
      "image/png": "[encoded data removed]",
      "text/plain": [
       "<Figure size 720x432 with 1 Axes>"
      ]
     },
     "metadata": {
      "needs_background": "light"
     },
     "output_type": "display_data"
    }
   ],
   "source": [
    "# 分析 查看不同offer的比例  receive view 和 complete 数量 / receive数量，水平图\n",
    "\n",
    "event_count = dfmerge_trprpo[~dfmerge_trprpo.event.isin(['transaction'])].groupby(['offername', 'event']).offer_id.count().unstack()\n",
    "event_count['offer_received_frac'] = event_count['offer received']/ event_count['offer received']\n",
    "event_count['offer_viewed_frac'] = event_count['offer viewed']/ event_count['offer received']\n",
    "event_count['offer_completed_frac'] =  event_count['offer completed']/ event_count['offer received']\n",
    "\n",
    "event_count_frac = event_count[['offer_received_frac','offer_viewed_frac', 'offer_completed_frac']]\n",
    "\n",
    "event_count_stack = event_count_frac.stack().reset_index()\n",
    "\n",
    "plt.figure(figsize=(10,6))\n",
    "sns.barplot(x=0,y='offername', hue='event', data=event_count_stack)\n",
    "plt.legend(loc='center left', bbox_to_anchor=(1, 0.5))\n",
    "plt.subplots_adjust(top=0.8)\n",
    "plt.title(\"Before Cleaning : Offer Received, Viewed, and Completed (fraction)\")\n",
    "plt.ylabel('')\n",
    "plt.xlabel('Fraction')\n",
    "\n",
    "plt.tight_layout()"
   ]
  },
  {
   "cell_type": "markdown",
   "metadata": {},
   "source": [
    "### find invalid transaction "
   ]
  },
  {
   "cell_type": "code",
   "execution_count": 88,
   "metadata": {},
   "outputs": [],
   "source": [
    "# 函数 find_invalid_index 找到无效推荐所在行\n",
    "\n",
    "\n",
    "def find_invalid_index( df_merged ):\n",
    "    \"\"\"\n",
    "    INPUT : transcript, profile, portfolio dataframe\n",
    "    RETURN : a list of invalid index in transcript dataframe\n",
    "    \"\"\"\n",
    "    # transcript_df= transcript ; profile_df = profile; portfolio_df = portfolio\n",
    "\n",
    "    # df_merged = dfmerge_trprpo\n",
    "    df_merg = df_merged.copy()\n",
    "    list_invalid = []\n",
    "\n",
    "    #iterate over profile_id (person)\n",
    "    list_person = df_merg.person.unique()\n",
    "    for person_id in tqdm( list_person ) :\n",
    "        # person_id= list_person[0]\n",
    "        # take a subest_df for profile_id person\n",
    "        df_sub_person = df_merg[df_merg.person == person_id]\n",
    "        \n",
    "        # take a subset of 'offer completed'\n",
    "        df_subp_comp = df_sub_person[df_sub_person.event == 'offer completed']\n",
    "\n",
    "        # iterate over the completed offer_id\n",
    "        for comofferid in df_subp_comp.offer_id.unique():\n",
    "            # comofferid = df_subp_comp.offer_id.unique()[0]\n",
    "            \n",
    "            # take a subset df of completed offer\n",
    "            row_com = df_subp_comp[df_subp_comp.offer_id == comofferid]\n",
    "            \n",
    "            # estimate the offer received time in hours using the offer duration (in days)\n",
    "            start_time = row_com.time.values - (row_com.duration.values *24)\n",
    "            # the offer completed time\n",
    "            comp_time = row_com.time.values\n",
    "            # take the subset within start_time and comp_time            \n",
    "            df_sub_durng = df_sub_person[(df_sub_person.time >= start_time[0]) & (df_sub_person.time <= comp_time[0])]\n",
    "            df_sub_view =  df_sub_durng[ (df_sub_durng.event == 'offer viewed')  & (df_sub_durng.offer_id == comofferid) ]\n",
    "            \n",
    "            # take only event of offer viewed for the given offer_id\n",
    "            if len(df_sub_view) ==0  :\n",
    "                list_invalid.extend( row_com.index  )\n",
    "                \n",
    "    return list_invalid"
   ]
  },
  {
   "cell_type": "code",
   "execution_count": 89,
   "metadata": {},
   "outputs": [
    {
     "name": "stderr",
     "output_type": "stream",
     "text": [
      "100%|████████████████████████████████████| 17000/17000 [06:55<00:00, 40.90it/s]\n"
     ]
    }
   ],
   "source": [
    "list_invalid = find_invalid_index( dfmerge_trprpo )"
   ]
  },
  {
   "cell_type": "code",
   "execution_count": 90,
   "metadata": {},
   "outputs": [
    {
     "data": {
      "text/plain": [
       "<matplotlib.axes._subplots.AxesSubplot at 0xbc57588>"
      ]
     },
     "execution_count": 90,
     "metadata": {},
     "output_type": "execute_result"
    },
    {
     "data": {
      "image/png": "[encoded data removed]",
      "text/plain": [
       "<Figure size 432x288 with 1 Axes>"
      ]
     },
     "metadata": {
      "needs_background": "light"
     },
     "output_type": "display_data"
    }
   ],
   "source": [
    "#%% 给无效行 做标记\n",
    "\n",
    "dfmerge_trprpo.loc[ :,'invalid'] = 0\n",
    "dfmerge_trprpo.loc[ list_invalid,'invalid'] =1\n",
    "\n",
    "dfmerge_trprpo.invalid.hist()\n"
   ]
  },
  {
   "cell_type": "code",
   "execution_count": 91,
   "metadata": {},
   "outputs": [
    {
     "data": {
      "image/png": "[encoded data removed]",
      "text/plain": [
       "<Figure size 720x432 with 1 Axes>"
      ]
     },
     "metadata": {
      "needs_background": "light"
     },
     "output_type": "display_data"
    }
   ],
   "source": [
    "#%% 去掉无效行以后 重新统计  不同offer- receive view 和 complete 比例，水平图\n",
    "\n",
    "df_trprpo_valid = dfmerge_trprpo[ dfmerge_trprpo.invalid == 0 ]\n",
    "\n",
    "event_count = df_trprpo_valid[~df_trprpo_valid.event.isin(['transaction'])].groupby(['offername', 'event']).offer_id.count().unstack()\n",
    "event_count['offer_received_frac'] = event_count['offer received']/ event_count['offer received']\n",
    "event_count['offer_viewed_frac'] = event_count['offer viewed']/ event_count['offer received']\n",
    "event_count['offer_completed_frac'] =  event_count['offer completed']/ event_count['offer received']\n",
    "\n",
    "event_count_frac = event_count[['offer_received_frac','offer_viewed_frac', 'offer_completed_frac']]\n",
    "\n",
    "event_count_stack = event_count_frac.stack().reset_index()\n",
    "\n",
    "plt.figure(figsize=(10,6))\n",
    "sns.barplot(x=0,y='offername', hue='event', data=event_count_stack)\n",
    "plt.legend(loc='center left', bbox_to_anchor=(1, 0.5))\n",
    "plt.subplots_adjust(top=0.8)\n",
    "plt.title(\"Before Cleaning : Offer Received, Viewed, and Completed (fraction)\")\n",
    "plt.ylabel('')\n",
    "plt.xlabel('Fraction')\n",
    "\n",
    "plt.tight_layout()\n",
    "\n"
   ]
  },
  {
   "cell_type": "markdown",
   "metadata": {},
   "source": [
    "- 对于所有推送offer 发现 complete 比 view 少，说明只剩下了有效记录\n",
    "    \n",
    "    \n",
    "- For all push offers, it is found that complete is less than view, indicating that only valid records are left"
   ]
  },
  {
   "cell_type": "markdown",
   "metadata": {},
   "source": [
    "# 函数集合"
   ]
  },
  {
   "cell_type": "code",
   "execution_count": 92,
   "metadata": {},
   "outputs": [],
   "source": [
    "#%% 函数 前面定义的\n",
    "def portfolio_prep(df):\n",
    "    # df = portfolio\n",
    "    # one hot encoded   channels 4 class\n",
    "    df = df.copy()\n",
    "    list_channels = ['web', 'email', 'mobile', 'social']\n",
    "\n",
    "    for ch in list_channels:\n",
    "        # ch = list_channels[0]\n",
    "        df[ch] = df.channels.apply(lambda x: 1 if ch in x else 0)\n",
    "\n",
    "    df = df.drop('channels', axis=1)\n",
    "\n",
    "    df['offername'] = df.offer_type.astype(str) +'_'+ df.difficulty.astype(str) +'_'+ \\\n",
    "        df.duration.astype(str) +'_'+  df.reward.astype(str)\n",
    "    \n",
    "    # df = df.drop( ['offer_type', 'difficulty', 'duration', 'reward']  , axis=1)\n",
    "   \n",
    "    return df\n",
    "\n",
    "\n",
    "def profile_prep_dates(df):\n",
    "    # df = profile\n",
    "    df = df.copy()\n",
    "    #convert to string\n",
    "    df['became_member_on'] = pd.to_datetime( df.became_member_on.apply(lambda x: str(x)) )\n",
    "    return df\n",
    "\n",
    "def load_file(filepath):\n",
    "    \"\"\"Load file csv\"\"\"\n",
    "    df_clean = pd.read_csv(filepath)\n",
    "    df_clean = df_clean.set_index(df_clean.columns[0])\n",
    "    df_clean = profile_prep_dates(df_clean)\n",
    "    return df_clean\n",
    "\n",
    "\n",
    "def encode_offer_id(x):\n",
    "    try :\n",
    "        return x['offer id']\n",
    "    except:\n",
    "        return x['offer_id']\n",
    "\n",
    "def transcript_prep(df):\n",
    "    # df = transcript\n",
    "    trans_df = df.copy()\n",
    "    trans_df['offer_id'] = trans_df[~trans_df.event.isin(['transaction'])].value.apply(encode_offer_id)   # why can't lambda?\n",
    "    trans_df['amount'] =  trans_df[trans_df.event.isin(['transaction'])].value.apply(lambda x: x['amount'])\n",
    "    trans_df = trans_df.drop( 'value' , axis=1 )\n",
    "    return trans_df\n",
    "\n",
    "def merge_transcript_profile_portfolio(transcript_df, profile_df, portfolio_df):\n",
    "    # transcript_df= transcript ; profile_df = profile; portfolio_df = portfolio\n",
    "    portfolio_clean = portfolio_prep( portfolio_df ) \n",
    "    profile_clean = profile_prep_dates(profile_df)\n",
    "    transcript_clean = transcript_prep(transcript_df)\n",
    "    \n",
    "    dfmerge_tr_pr = pd.merge(transcript_clean, profile_clean, left_on=['person'], right_on = ['id'], how ='left')\n",
    "    dfmerge_tr_pr = dfmerge_tr_pr.drop(['id'], axis=1)\n",
    "    \n",
    "    dfmerge_trpr_po =  pd.merge(dfmerge_tr_pr, portfolio_clean, left_on = 'offer_id', right_on ='id', how='left')\n",
    "    dfmerge_trpr_po = dfmerge_trpr_po.drop(['id'], axis=1)\n",
    "    return dfmerge_trpr_po\n",
    "\n",
    "\n",
    "\n",
    "def find_invalid_index( df_merged ):\n",
    "    \"\"\"\n",
    "    INPUT : transcript, profile, portfolio dataframe\n",
    "    RETURN : a list of invalid index in transcript dataframe\n",
    "    \"\"\"\n",
    "    # transcript_df= transcript ; profile_df = profile; portfolio_df = portfolio\n",
    "\n",
    "    # df_merged = dfmerge_trprpo\n",
    "    df_merg = df_merged.copy()\n",
    "    list_invalid = []\n",
    "\n",
    "    #iterate over profile_id (person)\n",
    "    list_person = df_merg.person.unique()\n",
    "    for person_id in tqdm( list_person ) :\n",
    "        # person_id= list_person[0]\n",
    "        # take a subest_df for profile_id person\n",
    "        df_sub_person = df_merg[df_merg.person == person_id]\n",
    "        \n",
    "        # take a subset of 'offer completed'\n",
    "        df_subp_comp = df_sub_person[df_sub_person.event == 'offer completed']\n",
    "\n",
    "        # iterate over the completed offer_id\n",
    "        for comofferid in df_subp_comp.offer_id.unique():\n",
    "            # comofferid = df_subp_comp.offer_id.unique()[0]\n",
    "            \n",
    "            # take a subset df of completed offer\n",
    "            row_com = df_subp_comp[df_subp_comp.offer_id == comofferid]\n",
    "            \n",
    "            # estimate the offer received time in hours using the offer duration (in days)\n",
    "            start_time = row_com.time.values - (row_com.duration.values *24)\n",
    "            # the offer completed time\n",
    "            comp_time = row_com.time.values\n",
    "            # take the subset within start_time and comp_time            \n",
    "            df_sub_durng = df_sub_person[(df_sub_person.time >= start_time[0]) & (df_sub_person.time <= comp_time[0])]\n",
    "            df_sub_view =  df_sub_durng[ (df_sub_durng.event == 'offer viewed')  & (df_sub_durng.offer_id == comofferid) ]\n",
    "            \n",
    "            # take only event of offer viewed for the given offer_id\n",
    "            if len(df_sub_view) ==0  :\n",
    "                list_invalid.extend( row_com.index  )\n",
    "                \n",
    "    return list_invalid"
   ]
  },
  {
   "cell_type": "code",
   "execution_count": 93,
   "metadata": {},
   "outputs": [],
   "source": [
    "#%% 函数  根据amount提取消费信息， fillna ,   特征提取\n",
    "\n",
    "def addfeat_spending(df, profile_id):\n",
    "    \"\"\"\n",
    "    INPUT :\n",
    "        df : DataFrame, clean merge transcript df\n",
    "        profile_id : profile id\n",
    "    RETURN :\n",
    "        spending_series : a Series of spending for a given profile_id (avg, transaction_count, and sum_spending)\n",
    "\n",
    "    \"\"\"\n",
    "    # df = df_trprpo_valid.copy() ; profile_id = df_trprpo_valid.person[0]\n",
    "    avg_spending = df.amount.mean()\n",
    "    transaction_count = df.amount.count()\n",
    "    sum_spending = df.amount.sum()\n",
    "\n",
    "    spending_series = pd.Series([avg_spending, transaction_count, sum_spending], index=[\"avg_spending\", \"transaction_count\", 'sum_spending'], name=profile_id)\n",
    "    return spending_series\n",
    "\n",
    "\n",
    "\n",
    "def addfeat_rate(df, profile_id):\n",
    "    \"\"\"\n",
    "    INPUT :\n",
    "        df : DataFrame, clean merge transcript df\n",
    "        profile_id : profile id\n",
    "    RETURN :\n",
    "        rate_series : a Series of complete/ recieve ,  complete/ review\n",
    "\n",
    "    \"\"\"\n",
    "    # df = df_trprpo_valid.copy() ; profile_id = df_trprpo_valid.person[0]\n",
    "\n",
    "    offer_received_count = len(df[df.event == 'offer received' ])\n",
    "    offer_viewed_count = len(df[df.event == 'offer viewed' ])\n",
    "    offer_completed_count = len(df[df.event == 'offer completed' ])\n",
    "\n",
    "    rate_comp_rec= offer_completed_count/( offer_received_count + 0.001) \n",
    "    rate_comp_view= offer_completed_count/( offer_viewed_count + 0.001) \n",
    "\n",
    "    rate_series = pd.Series([rate_comp_rec, rate_comp_view], index=[\"rate_comp_rec\", \"rate_comp_view\"], name=profile_id)\n",
    "    return rate_series\n",
    "\n",
    "\n",
    "def addfeat_offercount(df, profile_id):\n",
    "    \"\"\"\n",
    "    INPUT :\n",
    "        df : DataFrame, clean merge transcript df\n",
    "        profile_id : profile id\n",
    "    RETURN :\n",
    "        offercount_series : a Series of different offer type count \n",
    "\n",
    "    \"\"\"\n",
    "    # df = df_trprpo_valid.copy() ; profile_id = df_trprpo_valid.person[0]\n",
    "    ofbogo_count = len(df[df.offer_type == 'bogo' ])\n",
    "    ofdisc_count = len(df[df.offer_type == 'discount' ])\n",
    "    ofinfor_count = len(df[df.offer_type == 'informational' ])\n",
    "\n",
    "    offercount_series = pd.Series([ofbogo_count, ofdisc_count, ofinfor_count], index=['ofbogo_count', 'ofdisc_count','ofinfor_count'], name=profile_id)\n",
    "    return offercount_series\n",
    "\n",
    "\n",
    "def addfeat_invalid(df_all, profile_id):\n",
    "    \"\"\"\n",
    "    INPUT :\n",
    "        df : DataFrame, clean merge transcript df\n",
    "        profile_id : profile id\n",
    "    RETURN :\n",
    "        offercount_series : a Series of different offer type count \n",
    "\n",
    "    \"\"\"\n",
    "    # df = subset_dfall.copy() ; profile_id = df_trprpo_valid.person[0]\n",
    "    invalid_count = len(df_all[df_all.invalid == 1 ])\n",
    "    invalid_series = pd.Series([invalid_count], index=['invalid_count'], name=profile_id)\n",
    "    return invalid_series\n",
    "\n",
    "\n",
    "def feature_fillna(profile_updated_df, cols_to_fillna):\n",
    "    \"\"\"\n",
    "    This function is to fill missing value with zero (0) for selected feature\n",
    "    INPUT: profile_updated_df with missing values\n",
    "    RETURN : profile_updated_df with no missing values\n",
    "    \"\"\"\n",
    "    # profile_updated_df = profile_updated\n",
    "    profile_updated_df = profile_updated_df.copy()\n",
    "    col_null_frac = profile_updated_df.isnull().sum() / profile_updated_df.shape[0]\n",
    "    cols_to_drop = col_null_frac[col_null_frac ==1].index.tolist()\n",
    "    profile_updated_df[cols_to_fillna] = profile_updated_df[cols_to_fillna].fillna(0)\n",
    "    profile_updated_df = profile_updated_df.drop(cols_to_drop, axis=1)\n",
    "    return profile_updated_df\n",
    "\n",
    "\n",
    "\n",
    "# 特征提取 在merge_df里，筛选每个person的df 生成交易信息ser，再根据id和 profile_df合并到一起\n",
    "# 还可以生成更多的ser 比如无效交易的数量，完成/接收比 完成/查看比例等等\n",
    "def feature_extraction( df, df_all, profile_df):\n",
    "    \"\"\"\n",
    "    INPUT :\n",
    "        transcript_clean_df : a clean transcript df\n",
    "        transcript_all_df : transcript all df as return by transcript_preprocessing function\n",
    "        portfolio_df : portfolio df\n",
    "    RETURN :\n",
    "        profile_updated : profile updated df with 92 features\n",
    "\n",
    "    This function will check first whether the saved \"profile_updated.csv\" is available\n",
    "    If not available, the next function code block will be execute, then save it.\n",
    "    \"\"\"\n",
    "    # df = df_trprpo_valid ; df_all = dfmerge_trprpo; profile_df = profile\n",
    "    try:\n",
    "        profile_updated = load_file('data/profile_updated.csv')\n",
    "        print(\"The profile_updated.csv file is available at local folder.\")\n",
    "    except:\n",
    "        df_trprpo_valid = df.copy()\n",
    "        df_trprpo_all = df_all.copy()\n",
    "        \n",
    "        list_addfeat = [\"avg_spending\", \"transaction_count\", 'sum_spending', \\\n",
    "                        \"rate_comp_rec\", \"rate_comp_view\",\\\n",
    "                        'ofbogo_count', 'ofdisc_count','ofinfor_count',\\\n",
    "                        'invalid_count'   ]\n",
    "        allfeat_df = pd.DataFrame(index=list_addfeat)\n",
    "\n",
    "        ar_personid = df_trprpo_valid.person.unique()\n",
    "        \n",
    "        for profile_id in tqdm( ar_personid ):\n",
    "            # profile_id = ar_personid[0]\n",
    "            subset_df = df_trprpo_valid[df_trprpo_valid.person == profile_id]\n",
    "            spending_series = addfeat_spending( subset_df, profile_id )\n",
    "            rate_series = addfeat_rate( subset_df, profile_id ) \n",
    "            ofcount_series  = addfeat_offercount( subset_df, profile_id ) \n",
    "            \n",
    "            allfeat_df.loc[ spending_series.index , profile_id] = spending_series.values\n",
    "            allfeat_df.loc[ rate_series.index , profile_id]=  rate_series.values\n",
    "            allfeat_df.loc[ ofcount_series.index , profile_id]=  ofcount_series.values\n",
    "            \n",
    "            subset_dfall = df_trprpo_all[df_trprpo_all.person == profile_id]\n",
    "            invalid_series  = addfeat_invalid( subset_dfall, profile_id ) \n",
    "            allfeat_df.loc[ invalid_series.index , profile_id] = invalid_series.values     \n",
    "            \n",
    "        #parse dates became_member_on in profile_df\n",
    "        profile_date = profile_prep_dates(profile_df)\n",
    "\n",
    "        #df concatenation\n",
    "        profile_updated = pd.concat([profile_date.set_index('id'),allfeat_df.T ], axis=1, sort=False)\n",
    "        profile_updated = feature_fillna(profile_updated, list_addfeat)\n",
    "\n",
    "        #saving\n",
    "        profile_updated.to_csv('data/profile_updated.csv')\n",
    "\n",
    "    return profile_updated\n",
    "\n",
    "\n",
    "def pklsave(model, filename):\n",
    "    \"\"\"\n",
    "    This function is to save the sklearn object\n",
    "    INPUT :\n",
    "        model : sklearn object\n",
    "        filename : filepath to saved\n",
    "    RETURN : none\n",
    "    \"\"\"\n",
    "    pickle.dump(model, open(filename,'wb'))\n",
    "\n",
    "\n",
    "def pklload(filename):\n",
    "    \"\"\"\n",
    "    This function is to load the saved sklearn object\n",
    "    INPUT : filename : filepath\n",
    "    RETURN : loaded sklearn object\n",
    "    \"\"\"\n",
    "    return pickle.load(open(filename, 'rb'))\n"
   ]
  },
  {
   "cell_type": "markdown",
   "metadata": {},
   "source": [
    "# 特征工程"
   ]
  },
  {
   "cell_type": "markdown",
   "metadata": {},
   "source": [
    "## 清洗，合并，处理数据和增加特征"
   ]
  },
  {
   "cell_type": "code",
   "execution_count": 94,
   "metadata": {},
   "outputs": [
    {
     "name": "stderr",
     "output_type": "stream",
     "text": [
      "100%|████████████████████████████████████| 17000/17000 [06:50<00:00, 41.37it/s]\n"
     ]
    },
    {
     "name": "stdout",
     "output_type": "stream",
     "text": [
      "The profile_updated.csv file is available at local folder.\n"
     ]
    }
   ],
   "source": [
    "\n",
    "# 合并\n",
    "dfmerge_trprpo = merge_transcript_profile_portfolio(transcript, profile, portfolio)\n",
    "# 找到并排除 invalid\n",
    "list_invalid = find_invalid_index( dfmerge_trprpo )\n",
    "dfmerge_trprpo.loc[ :,'invalid'] = 0\n",
    "dfmerge_trprpo.loc[ list_invalid,'invalid'] =1\n",
    "df_trprpo_valid = dfmerge_trprpo[ dfmerge_trprpo.invalid == 0 ]\n",
    "# 利用 valid 数据做特征提取\n",
    "profile_updated = feature_extraction( df_trprpo_valid, dfmerge_trprpo,  profile  )    \n"
   ]
  },
  {
   "cell_type": "markdown",
   "metadata": {},
   "source": [
    "## 缺失"
   ]
  },
  {
   "cell_type": "code",
   "execution_count": 95,
   "metadata": {},
   "outputs": [
    {
     "data": {
      "text/plain": [
       "<matplotlib.axes._subplots.AxesSubplot at 0xb6b7748>"
      ]
     },
     "execution_count": 95,
     "metadata": {},
     "output_type": "execute_result"
    },
    {
     "data": {
      "image/png": "[encoded data removed]",
      "text/plain": [
       "<Figure size 720x360 with 1 Axes>"
      ]
     },
     "metadata": {
      "needs_background": "light"
     },
     "output_type": "display_data"
    }
   ],
   "source": [
    "#%% 看看每列缺失多少   Assess missing data in columns\n",
    "\n",
    "col_null = profile_updated.isnull().sum()\n",
    "\n",
    "col_null_frac = col_null / profile_updated.shape[0]\n",
    "plt.figure(figsize= (10,5))\n",
    "col_null_frac.plot(kind='bar')"
   ]
  },
  {
   "cell_type": "code",
   "execution_count": 96,
   "metadata": {},
   "outputs": [],
   "source": [
    "#%%  找到并删除 超过0.3比例的空缺列\n",
    "\n",
    "# cols to drop that have more than 30% missing values\n",
    "cols_to_drop = col_null_frac[col_null_frac > 0.3].index.tolist()\n",
    "cols_to_drop\n",
    "\n",
    "# drop columns in cols_to_drop\n",
    "profile_up_nomiss = profile_updated.drop(cols_to_drop, axis=1)"
   ]
  },
  {
   "cell_type": "code",
   "execution_count": 97,
   "metadata": {},
   "outputs": [
    {
     "data": {
      "text/plain": [
       "<matplotlib.axes._subplots.AxesSubplot at 0xbae84a8>"
      ]
     },
     "execution_count": 97,
     "metadata": {},
     "output_type": "execute_result"
    },
    {
     "data": {
      "image/png": "[encoded data removed]",
      "text/plain": [
       "<Figure size 432x288 with 1 Axes>"
      ]
     },
     "metadata": {
      "needs_background": "light"
     },
     "output_type": "display_data"
    }
   ],
   "source": [
    "#%% 看看各行 缺失 多少\n",
    "\n",
    "row_null = profile_up_nomiss.isnull().sum(axis=1)\n",
    "row_null.hist()"
   ]
  },
  {
   "cell_type": "code",
   "execution_count": 98,
   "metadata": {},
   "outputs": [
    {
     "data": {
      "image/png": "[encoded data removed]",
      "text/plain": [
       "<Figure size 576x216 with 2 Axes>"
      ]
     },
     "metadata": {
      "needs_background": "light"
     },
     "output_type": "display_data"
    },
    {
     "data": {
      "image/png": "[encoded data removed]",
      "text/plain": [
       "<Figure size 576x216 with 2 Axes>"
      ]
     },
     "metadata": {
      "needs_background": "light"
     },
     "output_type": "display_data"
    },
    {
     "data": {
      "image/png": "[encoded data removed]",
      "text/plain": [
       "<Figure size 576x216 with 2 Axes>"
      ]
     },
     "metadata": {
      "needs_background": "light"
     },
     "output_type": "display_data"
    },
    {
     "data": {
      "image/png": "[encoded data removed]",
      "text/plain": [
       "<Figure size 576x216 with 2 Axes>"
      ]
     },
     "metadata": {
      "needs_background": "light"
     },
     "output_type": "display_data"
    },
    {
     "data": {
      "image/png": "[encoded data removed]",
      "text/plain": [
       "<Figure size 576x216 with 2 Axes>"
      ]
     },
     "metadata": {
      "needs_background": "light"
     },
     "output_type": "display_data"
    },
    {
     "data": {
      "image/png": "[encoded data removed]",
      "text/plain": [
       "<Figure size 576x216 with 2 Axes>"
      ]
     },
     "metadata": {
      "needs_background": "light"
     },
     "output_type": "display_data"
    },
    {
     "data": {
      "image/png": "[encoded data removed]",
      "text/plain": [
       "<Figure size 576x216 with 2 Axes>"
      ]
     },
     "metadata": {
      "needs_background": "light"
     },
     "output_type": "display_data"
    },
    {
     "data": {
      "image/png": "[encoded data removed]",
      "text/plain": [
       "<Figure size 576x216 with 2 Axes>"
      ]
     },
     "metadata": {
      "needs_background": "light"
     },
     "output_type": "display_data"
    },
    {
     "data": {
      "image/png": "[encoded data removed]",
      "text/plain": [
       "<Figure size 576x216 with 2 Axes>"
      ]
     },
     "metadata": {
      "needs_background": "light"
     },
     "output_type": "display_data"
    },
    {
     "data": {
      "image/png": "[encoded data removed]",
      "text/plain": [
       "<Figure size 576x216 with 2 Axes>"
      ]
     },
     "metadata": {
      "needs_background": "light"
     },
     "output_type": "display_data"
    }
   ],
   "source": [
    "# 观察有缺失行和没缺失行 关心的预测列 hist分布\n",
    "  \n",
    "def dist_compare_cont(attribute, data):\n",
    "    \"\"\"\n",
    "    input : \n",
    "        attribute: feature / attribute\n",
    "        data : dataframe\n",
    "    return : None, only plot the histogram\n",
    "    \"\"\"\n",
    "    # data = profile_updated_  ;  attribute = 'avg_spending'\n",
    "    row_null = data.isnull().sum(axis=1)\n",
    "    f, (ax1,ax2) = plt.subplots(1,2, sharex=True, figsize=(8,3))\n",
    "    ax1 = data[row_null==0][attribute].hist(ax=ax1, bins=20)\n",
    "    ax2 = data[row_null > 0][attribute].hist( ax=ax2, bins=20)\n",
    "    ax1.set_title('No missing value')\n",
    "    ax2.set_title('With missing value')\n",
    "    f.suptitle('Feature: ' + attribute)\n",
    "    f.tight_layout()\n",
    "    f.subplots_adjust(top=0.8)\n",
    "\n",
    "\n",
    "cols_to_compare = ['became_member_on', 'avg_spending', 'transaction_count', 'sum_spending', \n",
    "                   'rate_comp_rec', 'rate_comp_view','ofbogo_count', 'ofdisc_count', \n",
    "                   'ofinfor_count', 'invalid_count']\n",
    "\n",
    "for col in cols_to_compare:\n",
    "    dist_compare_cont(col, profile_up_nomiss)"
   ]
  },
  {
   "cell_type": "markdown",
   "metadata": {},
   "source": [
    "- 发现 No missing 和 With missing 两者相比 没有明显差别 可以考虑删除\n",
    "    \n",
    "    \n",
    "- It is found that data with missing and without missing have no obvious difference, the missing rows can be deleted"
   ]
  },
  {
   "cell_type": "code",
   "execution_count": 99,
   "metadata": {},
   "outputs": [],
   "source": [
    "#%% 删除这部分缺失的行 \n",
    "profile_up_nomiss = profile_up_nomiss.drop( profile_up_nomiss[row_null > 0].index  , axis=0)"
   ]
  },
  {
   "cell_type": "markdown",
   "metadata": {},
   "source": [
    "## 特征工程， became_member_on\n"
   ]
  },
  {
   "cell_type": "code",
   "execution_count": 100,
   "metadata": {},
   "outputs": [],
   "source": [
    "# became_member_on 转换为2个  member_days_since 和 member_year\n",
    "profile_up_nomiss.loc[:,'member_days_since'] = (datetime.datetime(2018,12,31) - \\\n",
    "                     profile_up_nomiss.became_member_on).dt.days \n",
    "                     \n",
    "profile_up_nomiss.loc[:,'member_year'] = profile_up_nomiss.became_member_on.dt.year.astype(str)\n",
    "profile_up_nomiss = profile_up_nomiss.drop('became_member_on', axis=1)\n"
   ]
  },
  {
   "cell_type": "code",
   "execution_count": 101,
   "metadata": {},
   "outputs": [
    {
     "name": "stdout",
     "output_type": "stream",
     "text": [
      "<class 'pandas.core.frame.DataFrame'>\n",
      "Index: 14825 entries, 0610b486422d4921ae7d2bf64640c50b to e4052622e5ba45a8b96b59aba68cf068\n",
      "Data columns (total 14 columns):\n",
      " #   Column             Non-Null Count  Dtype  \n",
      "---  ------             --------------  -----  \n",
      " 0   gender             14825 non-null  object \n",
      " 1   age                14825 non-null  int64  \n",
      " 2   income             14825 non-null  float64\n",
      " 3   avg_spending       14825 non-null  float64\n",
      " 4   transaction_count  14825 non-null  float64\n",
      " 5   sum_spending       14825 non-null  float64\n",
      " 6   rate_comp_rec      14825 non-null  float64\n",
      " 7   rate_comp_view     14825 non-null  float64\n",
      " 8   ofbogo_count       14825 non-null  float64\n",
      " 9   ofdisc_count       14825 non-null  float64\n",
      " 10  ofinfor_count      14825 non-null  float64\n",
      " 11  invalid_count      14825 non-null  float64\n",
      " 12  member_days_since  14825 non-null  int64  \n",
      " 13  member_year        14825 non-null  object \n",
      "dtypes: float64(10), int64(2), object(2)\n",
      "memory usage: 1.7+ MB\n"
     ]
    }
   ],
   "source": [
    "#%%  确认类型 年月日是否为 str, 是否还有其他str\n",
    "profile_up_nomiss.info()"
   ]
  },
  {
   "cell_type": "markdown",
   "metadata": {},
   "source": [
    "## one hot: gender, member_year"
   ]
  },
  {
   "cell_type": "code",
   "execution_count": 102,
   "metadata": {},
   "outputs": [],
   "source": [
    "#%% 再次 one hot 编码，主要是 gender 和 member_year 的类别变量\n",
    "\n",
    "# one hot gender columns\n",
    "profile_up_onehot = pd.get_dummies(profile_up_nomiss)\n",
    "\n",
    "profile_new = profile_up_onehot.copy()"
   ]
  },
  {
   "cell_type": "markdown",
   "metadata": {},
   "source": [
    "## save & load"
   ]
  },
  {
   "cell_type": "code",
   "execution_count": 103,
   "metadata": {},
   "outputs": [],
   "source": [
    "#%% 保存数据\n",
    "pklsave(profile_new, 'sav/profile_new.sav')\n",
    " \n",
    "#%% 读取数据 有21个特征就对了  14825 rows x 21 columns\n",
    "profile_new =  pklload('sav/profile_new.sav')\n"
   ]
  },
  {
   "cell_type": "markdown",
   "metadata": {},
   "source": [
    "##  Data analysis "
   ]
  },
  {
   "cell_type": "code",
   "execution_count": 104,
   "metadata": {},
   "outputs": [
    {
     "data": {
      "text/plain": [
       "Text(0.5, 1, 'Profile Main - Features Correlation')"
      ]
     },
     "execution_count": 104,
     "metadata": {},
     "output_type": "execute_result"
    },
    {
     "data": {
      "image/png": "[encoded data removed]",
      "text/plain": [
       "<Figure size 720x576 with 2 Axes>"
      ]
     },
     "metadata": {
      "needs_background": "light"
     },
     "output_type": "display_data"
    }
   ],
   "source": [
    "#%% ！！！数据分析 ，热图 EDA 指定列，分别针对<100 >100\n",
    "\n",
    "cols = ['age', 'income', 'avg_spending', 'transaction_count', 'sum_spending',\n",
    "       'rate_comp_rec', 'rate_comp_view', 'ofbogo_count', 'ofdisc_count',\n",
    "       'ofinfor_count', 'invalid_count', 'member_days_since']\n",
    "\n",
    "f,ax = plt.subplots(figsize=(10,8))\n",
    "sns.heatmap(profile_new[cols].corr(), ax=ax, annot=True)\n",
    "ax.set_title(\"Profile Main - Features Correlation\")\n"
   ]
  },
  {
   "cell_type": "markdown",
   "metadata": {},
   "source": [
    "- 'rate_comp_view'和'rate_comp_rec'有很强的关联性\n",
    "    \n",
    "    \n",
    "- 'rate_comp_view' and'rate_comp_rec' have a strong correlation"
   ]
  },
  {
   "cell_type": "code",
   "execution_count": 105,
   "metadata": {
    "scrolled": true
   },
   "outputs": [
    {
     "name": "stderr",
     "output_type": "stream",
     "text": [
      "C:\\ProgramData\\Anaconda3\\lib\\site-packages\\ipykernel_launcher.py:4: UserWarning: To output multiple subplots, the figure containing the passed axes is being cleared\n",
      "  after removing the cwd from sys.path.\n"
     ]
    },
    {
     "data": {
      "image/png": "[encoded data removed]",
      "text/plain": [
       "<Figure size 1080x720 with 12 Axes>"
      ]
     },
     "metadata": {
      "needs_background": "light"
     },
     "output_type": "display_data"
    }
   ],
   "source": [
    "#%%数据分析 hist图\n",
    "\n",
    "f, ax = plt.subplots(figsize=(15,10))\n",
    "profile_new[cols].hist(ax=ax);\n",
    "plt.tight_layout()\n"
   ]
  },
  {
   "cell_type": "code",
   "execution_count": null,
   "metadata": {},
   "outputs": [],
   "source": []
  }
 ],
 "metadata": {
  "kernelspec": {
   "display_name": "Python 3",
   "language": "python",
   "name": "python3"
  },
  "language_info": {
   "codemirror_mode": {
    "name": "ipython",
    "version": 3
   },
   "file_extension": ".py",
   "mimetype": "text/x-python",
   "name": "python",
   "nbconvert_exporter": "python",
   "pygments_lexer": "ipython3",
   "version": "3.7.3"
  },
  "toc": {
   "base_numbering": 1,
   "nav_menu": {},
   "number_sections": true,
   "sideBar": true,
   "skip_h1_title": false,
   "title_cell": "Table of Contents",
   "title_sidebar": "Contents",
   "toc_cell": false,
   "toc_position": {
    "height": "calc(100% - 180px)",
    "left": "10px",
    "top": "150px",
    "width": "317.857px"
   },
   "toc_section_display": true,
   "toc_window_display": true
  }
 },
 "nbformat": 4,
 "nbformat_minor": 2
}
